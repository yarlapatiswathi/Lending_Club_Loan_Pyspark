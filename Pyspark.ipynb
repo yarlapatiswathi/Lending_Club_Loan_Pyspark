{
 "cells": [
  {
   "cell_type": "code",
   "execution_count": 89,
   "metadata": {},
   "outputs": [],
   "source": [
    "from pyspark.sql import SparkSession"
   ]
  },
  {
   "cell_type": "code",
   "execution_count": 2,
   "metadata": {},
   "outputs": [],
   "source": [
    "spark=SparkSession.builder.master('local[2]').appName('practice').getOrCreate()\n",
    "df=spark.read.csv('LoanStats_2018Q4.csv',inferSchema=True,header=True)"
   ]
  },
  {
   "cell_type": "code",
   "execution_count": 11,
   "metadata": {},
   "outputs": [
    {
     "name": "stdout",
     "output_type": "stream",
     "text": [
      "+----+---------+---------+-----------+---------------+----------+--------+-----------+-----+---------+---------+----------+--------------+----------+-------------------+-------+-----------+----------+----+----+------------------+------------------+--------+----------+-----+-----------+----------------+--------------+----------------------+----------------------+--------+-------+---------+----------+---------+-------------------+---------+-------------+-----------+---------------+---------------+-------------+------------------+----------+-----------------------+------------+---------------+------------+------------------+--------------------------+---------------------------+-----------+----------------+----------------+---------+-------------------------+--------------+------------+-----------+-----------+-----------+-----------+-----------+------------------+------------+-------+-----------+-----------+----------+--------+----------------+------+-----------+------------+--------------------+-----------+--------------+-------+------------------------+-----------+------------------+--------------------+---------------------+--------------+--------+--------------------+------------------------+---------------------+------------------------------+---------------------+--------------+---------------+-----------+---------+---------+-------------+-------------+-------------------+--------+----------------+------------+------------------+------------------+--------------+----------------+--------------------+---------+---------------+-----------------+--------------+--------------------------+---------------+------------------------+----------------------+----------------+----------------+------------------+-------------------+---------------------+--------------------------------+----------------------------------+-----------------------------------+-------------+-------------+---------------+---------------+-------------+---------------+-------------------+-----------------+-----------------------+---------------+------------+--------------------+------------------------------------------+------------------------------+----------------------------+-------------------+--------------------+-------------------------+-----------------+---------------+-----------------+---------------------+---------------+\n",
      "|  id|member_id|loan_amnt|funded_amnt|funded_amnt_inv|      term|int_rate|installment|grade|sub_grade|emp_title|emp_length|home_ownership|annual_inc|verification_status|issue_d|loan_status|pymnt_plan| url|desc|           purpose|             title|zip_code|addr_state|  dti|delinq_2yrs|earliest_cr_line|inq_last_6mths|mths_since_last_delinq|mths_since_last_record|open_acc|pub_rec|revol_bal|revol_util|total_acc|initial_list_status|out_prncp|out_prncp_inv|total_pymnt|total_pymnt_inv|total_rec_prncp|total_rec_int|total_rec_late_fee|recoveries|collection_recovery_fee|last_pymnt_d|last_pymnt_amnt|next_pymnt_d|last_credit_pull_d|collections_12_mths_ex_med|mths_since_last_major_derog|policy_code|application_type|annual_inc_joint|dti_joint|verification_status_joint|acc_now_delinq|tot_coll_amt|tot_cur_bal|open_acc_6m|open_act_il|open_il_12m|open_il_24m|mths_since_rcnt_il|total_bal_il|il_util|open_rv_12m|open_rv_24m|max_bal_bc|all_util|total_rev_hi_lim|inq_fi|total_cu_tl|inq_last_12m|acc_open_past_24mths|avg_cur_bal|bc_open_to_buy|bc_util|chargeoff_within_12_mths|delinq_amnt|mo_sin_old_il_acct|mo_sin_old_rev_tl_op|mo_sin_rcnt_rev_tl_op|mo_sin_rcnt_tl|mort_acc|mths_since_recent_bc|mths_since_recent_bc_dlq|mths_since_recent_inq|mths_since_recent_revol_delinq|num_accts_ever_120_pd|num_actv_bc_tl|num_actv_rev_tl|num_bc_sats|num_bc_tl|num_il_tl|num_op_rev_tl|num_rev_accts|num_rev_tl_bal_gt_0|num_sats|num_tl_120dpd_2m|num_tl_30dpd|num_tl_90g_dpd_24m|num_tl_op_past_12m|pct_tl_nvr_dlq|percent_bc_gt_75|pub_rec_bankruptcies|tax_liens|tot_hi_cred_lim|total_bal_ex_mort|total_bc_limit|total_il_high_credit_limit|revol_bal_joint|sec_app_earliest_cr_line|sec_app_inq_last_6mths|sec_app_mort_acc|sec_app_open_acc|sec_app_revol_util|sec_app_open_act_il|sec_app_num_rev_accts|sec_app_chargeoff_within_12_mths|sec_app_collections_12_mths_ex_med|sec_app_mths_since_last_major_derog|hardship_flag|hardship_type|hardship_reason|hardship_status|deferral_term|hardship_amount|hardship_start_date|hardship_end_date|payment_plan_start_date|hardship_length|hardship_dpd|hardship_loan_status|orig_projected_additional_accrued_interest|hardship_payoff_balance_amount|hardship_last_payment_amount|disbursement_method|debt_settlement_flag|debt_settlement_flag_date|settlement_status|settlement_date|settlement_amount|settlement_percentage|settlement_term|\n",
      "+----+---------+---------+-----------+---------------+----------+--------+-----------+-----+---------+---------+----------+--------------+----------+-------------------+-------+-----------+----------+----+----+------------------+------------------+--------+----------+-----+-----------+----------------+--------------+----------------------+----------------------+--------+-------+---------+----------+---------+-------------------+---------+-------------+-----------+---------------+---------------+-------------+------------------+----------+-----------------------+------------+---------------+------------+------------------+--------------------------+---------------------------+-----------+----------------+----------------+---------+-------------------------+--------------+------------+-----------+-----------+-----------+-----------+-----------+------------------+------------+-------+-----------+-----------+----------+--------+----------------+------+-----------+------------+--------------------+-----------+--------------+-------+------------------------+-----------+------------------+--------------------+---------------------+--------------+--------+--------------------+------------------------+---------------------+------------------------------+---------------------+--------------+---------------+-----------+---------+---------+-------------+-------------+-------------------+--------+----------------+------------+------------------+------------------+--------------+----------------+--------------------+---------+---------------+-----------------+--------------+--------------------------+---------------+------------------------+----------------------+----------------+----------------+------------------+-------------------+---------------------+--------------------------------+----------------------------------+-----------------------------------+-------------+-------------+---------------+---------------+-------------+---------------+-------------------+-----------------+-----------------------+---------------+------------+--------------------+------------------------------------------+------------------------------+----------------------------+-------------------+--------------------+-------------------------+-----------------+---------------+-----------------+---------------------+---------------+\n",
      "|null|     null|    10000|      10000|        10000.0| 36 months|  10.33%|     324.23|    B|       B1|     null|  < 1 year|      MORTGAGE|  280000.0|       Not Verified| Dec-18|    Current|         n|null|null|debt_consolidation|Debt consolidation|   974xx|        OR| 6.15|          2|          Jan-96|             0|                    18|                  null|      14|      0|     9082|       38%|       23|                  w|  9521.66|      9521.66|     639.85|         639.85|         478.34|       161.51|               0.0|       0.0|                    0.0|      Feb-19|         324.23|      Apr-19|            Mar-19|                         0|                       null|          1|      Individual|            null|     null|                     null|             0|         671|     246828|          1|          3|          2|          3|                 1|       48552|     62|          1|          3|      4923|      46|           23900|     2|          7|           1|                   7|      17631|         11897|   43.1|                       0|          0|               158|                 275|                   11|             1|       1|                  11|                    null|                   11|                          null|                    0|             3|              4|          7|        7|       10|            9|           11|                  4|      14|               0|           0|                 0|                 4|          91.3|            28.6|                   0|        0|         367828|            61364|         20900|                     54912|           null|                    null|                  null|            null|            null|              null|               null|                 null|                            null|                              null|                               null|            N|         null|           null|           null|         null|           null|               null|             null|                   null|           null|        null|                null|                                      null|                          null|                        null|          DirectPay|                   N|                     null|             null|           null|             null|                 null|           null|\n",
      "|null|     null|     2500|       2500|         2500.0| 36 months|  13.56%|      84.92|    C|       C1|     Chef| 10+ years|          RENT|   55000.0|       Not Verified| Dec-18|    Current|         n|null|null|debt_consolidation|Debt consolidation|   109xx|        NY|18.24|          0|          Apr-01|             1|                  null|                    45|       9|      1|     4341|    10.30%|       34|                  w|  2386.02|      2386.02|     167.02|         167.02|         113.98|        53.04|               0.0|       0.0|                    0.0|      Feb-19|          84.92|      Apr-19|            Mar-19|                         0|                       null|          1|      Individual|            null|     null|                     null|             0|           0|      16901|          2|          2|          1|          2|                 2|       12560|     69|          2|          7|      2137|      28|           42000|     1|         11|           2|                   9|       1878|         34360|    5.9|                       0|          0|               140|                 212|                    1|             1|       0|                   1|                    null|                    2|                          null|                    0|             2|              5|          3|        3|       16|            7|           18|                  5|       9|               0|           0|                 0|                 3|         100.0|             0.0|                   1|        0|          60124|            16901|         36500|                     18124|           null|                    null|                  null|            null|            null|              null|               null|                 null|                            null|                              null|                               null|            N|         null|           null|           null|         null|           null|               null|             null|                   null|           null|        null|                null|                                      null|                          null|                        null|               Cash|                   N|                     null|             null|           null|             null|                 null|           null|\n",
      "|null|     null|    12000|      12000|        12000.0| 60 months|  13.56%|     276.49|    C|       C1|     null|  < 1 year|      MORTGAGE|   40000.0|       Not Verified| Dec-18|    Current|         n|null|null|debt_consolidation|Debt consolidation|   180xx|        PA|19.23|          0|          Aug-05|             2|                  null|                  null|       8|      0|    23195|    55.50%|        9|                  w| 11716.63|     11716.63|     539.42|         539.42|         283.37|       256.05|               0.0|       0.0|                    0.0|      Feb-19|         276.49|      Apr-19|            Mar-19|                         0|                       null|          1|      Individual|            null|     null|                     null|             0|           0|      32462|          1|          1|          1|          1|                 4|        9267|    103|          2|          2|      9747|      64|           41800|     1|          0|           3|                   3|       4058|         16601|   54.9|                       0|          0|                 4|                 149|                    9|             4|       1|                  10|                    null|                    4|                          null|                    0|             5|              6|          5|        5|        1|            7|            7|                  6|       8|               0|           0|                 0|                 3|         100.0|            60.0|                   0|        0|          50800|            32462|         36800|                      9000|           null|                    null|                  null|            null|            null|              null|               null|                 null|                            null|                              null|                               null|            N|         null|           null|           null|         null|           null|               null|             null|                   null|           null|        null|                null|                                      null|                          null|                        null|               Cash|                   N|                     null|             null|           null|             null|                 null|           null|\n",
      "|null|     null|    15000|      15000|        14975.0| 60 months|  14.47%|     352.69|    C|       C2|     null|       n/a|      MORTGAGE|   30000.0|    Source Verified| Dec-18|    Current|         n|null|null|debt_consolidation|Debt consolidation|   756xx|        TX| 41.6|          0|          Oct-99|             0|                  null|                  null|      20|      0|    20049|    37.20%|       30|                  f| 14654.57|     14630.15|     687.29|         686.14|         345.43|       341.86|               0.0|       0.0|                    0.0|      Feb-19|         352.69|      Apr-19|            Mar-19|                         0|                       null|          1|       Joint App|         55000.0|    34.95|          Source Verified|             0|           0|      65496|          1|          1|          0|          1|                16|        4458|     31|          1|          1|      3616|      36|           53900|     0|          2|           0|                   2|       3275|          2545|   74.3|                       0|          0|               149|                 230|                    6|             6|       1|                  31|                    null|                 null|                          null|                    0|             4|             13|          4|        5|        8|           18|           21|                 13|      20|               0|           0|                 0|                 1|         100.0|            50.0|                   0|        0|         118790|            24507|          9900|                     14490|          29704|                  Oct-99|                     0|               0|              16|              48.8|                  0|                   15|                               0|                                 0|                               null|            N|         null|           null|           null|         null|           null|               null|             null|                   null|           null|        null|                null|                                      null|                          null|                        null|               Cash|                   N|                     null|             null|           null|             null|                 null|           null|\n",
      "+----+---------+---------+-----------+---------------+----------+--------+-----------+-----+---------+---------+----------+--------------+----------+-------------------+-------+-----------+----------+----+----+------------------+------------------+--------+----------+-----+-----------+----------------+--------------+----------------------+----------------------+--------+-------+---------+----------+---------+-------------------+---------+-------------+-----------+---------------+---------------+-------------+------------------+----------+-----------------------+------------+---------------+------------+------------------+--------------------------+---------------------------+-----------+----------------+----------------+---------+-------------------------+--------------+------------+-----------+-----------+-----------+-----------+-----------+------------------+------------+-------+-----------+-----------+----------+--------+----------------+------+-----------+------------+--------------------+-----------+--------------+-------+------------------------+-----------+------------------+--------------------+---------------------+--------------+--------+--------------------+------------------------+---------------------+------------------------------+---------------------+--------------+---------------+-----------+---------+---------+-------------+-------------+-------------------+--------+----------------+------------+------------------+------------------+--------------+----------------+--------------------+---------+---------------+-----------------+--------------+--------------------------+---------------+------------------------+----------------------+----------------+----------------+------------------+-------------------+---------------------+--------------------------------+----------------------------------+-----------------------------------+-------------+-------------+---------------+---------------+-------------+---------------+-------------------+-----------------+-----------------------+---------------+------------+--------------------+------------------------------------------+------------------------------+----------------------------+-------------------+--------------------+-------------------------+-----------------+---------------+-----------------+---------------------+---------------+\n",
      "only showing top 4 rows\n",
      "\n"
     ]
    }
   ],
   "source": [
    "df.show(4)\n",
    "#display(df)"
   ]
  },
  {
   "cell_type": "code",
   "execution_count": 13,
   "metadata": {},
   "outputs": [
    {
     "data": {
      "text/plain": [
       "128416"
      ]
     },
     "execution_count": 13,
     "metadata": {},
     "output_type": "execute_result"
    }
   ],
   "source": [
    "df.count()"
   ]
  },
  {
   "cell_type": "code",
   "execution_count": 15,
   "metadata": {},
   "outputs": [
    {
     "name": "stdout",
     "output_type": "stream",
     "text": [
      "root\n",
      " |-- id: string (nullable = true)\n",
      " |-- member_id: string (nullable = true)\n",
      " |-- loan_amnt: integer (nullable = true)\n",
      " |-- funded_amnt: integer (nullable = true)\n",
      " |-- funded_amnt_inv: double (nullable = true)\n",
      " |-- term: string (nullable = true)\n",
      " |-- int_rate: string (nullable = true)\n",
      " |-- installment: double (nullable = true)\n",
      " |-- grade: string (nullable = true)\n",
      " |-- sub_grade: string (nullable = true)\n",
      " |-- emp_title: string (nullable = true)\n",
      " |-- emp_length: string (nullable = true)\n",
      " |-- home_ownership: string (nullable = true)\n",
      " |-- annual_inc: double (nullable = true)\n",
      " |-- verification_status: string (nullable = true)\n",
      " |-- issue_d: string (nullable = true)\n",
      " |-- loan_status: string (nullable = true)\n",
      " |-- pymnt_plan: string (nullable = true)\n",
      " |-- url: string (nullable = true)\n",
      " |-- desc: string (nullable = true)\n",
      " |-- purpose: string (nullable = true)\n",
      " |-- title: string (nullable = true)\n",
      " |-- zip_code: string (nullable = true)\n",
      " |-- addr_state: string (nullable = true)\n",
      " |-- dti: double (nullable = true)\n",
      " |-- delinq_2yrs: integer (nullable = true)\n",
      " |-- earliest_cr_line: string (nullable = true)\n",
      " |-- inq_last_6mths: integer (nullable = true)\n",
      " |-- mths_since_last_delinq: integer (nullable = true)\n",
      " |-- mths_since_last_record: integer (nullable = true)\n",
      " |-- open_acc: integer (nullable = true)\n",
      " |-- pub_rec: integer (nullable = true)\n",
      " |-- revol_bal: integer (nullable = true)\n",
      " |-- revol_util: string (nullable = true)\n",
      " |-- total_acc: integer (nullable = true)\n",
      " |-- initial_list_status: string (nullable = true)\n",
      " |-- out_prncp: double (nullable = true)\n",
      " |-- out_prncp_inv: double (nullable = true)\n",
      " |-- total_pymnt: double (nullable = true)\n",
      " |-- total_pymnt_inv: double (nullable = true)\n",
      " |-- total_rec_prncp: double (nullable = true)\n",
      " |-- total_rec_int: double (nullable = true)\n",
      " |-- total_rec_late_fee: double (nullable = true)\n",
      " |-- recoveries: double (nullable = true)\n",
      " |-- collection_recovery_fee: double (nullable = true)\n",
      " |-- last_pymnt_d: string (nullable = true)\n",
      " |-- last_pymnt_amnt: double (nullable = true)\n",
      " |-- next_pymnt_d: string (nullable = true)\n",
      " |-- last_credit_pull_d: string (nullable = true)\n",
      " |-- collections_12_mths_ex_med: integer (nullable = true)\n",
      " |-- mths_since_last_major_derog: integer (nullable = true)\n",
      " |-- policy_code: integer (nullable = true)\n",
      " |-- application_type: string (nullable = true)\n",
      " |-- annual_inc_joint: double (nullable = true)\n",
      " |-- dti_joint: double (nullable = true)\n",
      " |-- verification_status_joint: string (nullable = true)\n",
      " |-- acc_now_delinq: integer (nullable = true)\n",
      " |-- tot_coll_amt: integer (nullable = true)\n",
      " |-- tot_cur_bal: integer (nullable = true)\n",
      " |-- open_acc_6m: integer (nullable = true)\n",
      " |-- open_act_il: integer (nullable = true)\n",
      " |-- open_il_12m: integer (nullable = true)\n",
      " |-- open_il_24m: integer (nullable = true)\n",
      " |-- mths_since_rcnt_il: integer (nullable = true)\n",
      " |-- total_bal_il: integer (nullable = true)\n",
      " |-- il_util: integer (nullable = true)\n",
      " |-- open_rv_12m: integer (nullable = true)\n",
      " |-- open_rv_24m: integer (nullable = true)\n",
      " |-- max_bal_bc: integer (nullable = true)\n",
      " |-- all_util: integer (nullable = true)\n",
      " |-- total_rev_hi_lim: integer (nullable = true)\n",
      " |-- inq_fi: integer (nullable = true)\n",
      " |-- total_cu_tl: integer (nullable = true)\n",
      " |-- inq_last_12m: integer (nullable = true)\n",
      " |-- acc_open_past_24mths: integer (nullable = true)\n",
      " |-- avg_cur_bal: integer (nullable = true)\n",
      " |-- bc_open_to_buy: integer (nullable = true)\n",
      " |-- bc_util: double (nullable = true)\n",
      " |-- chargeoff_within_12_mths: integer (nullable = true)\n",
      " |-- delinq_amnt: integer (nullable = true)\n",
      " |-- mo_sin_old_il_acct: integer (nullable = true)\n",
      " |-- mo_sin_old_rev_tl_op: integer (nullable = true)\n",
      " |-- mo_sin_rcnt_rev_tl_op: integer (nullable = true)\n",
      " |-- mo_sin_rcnt_tl: integer (nullable = true)\n",
      " |-- mort_acc: integer (nullable = true)\n",
      " |-- mths_since_recent_bc: integer (nullable = true)\n",
      " |-- mths_since_recent_bc_dlq: integer (nullable = true)\n",
      " |-- mths_since_recent_inq: integer (nullable = true)\n",
      " |-- mths_since_recent_revol_delinq: integer (nullable = true)\n",
      " |-- num_accts_ever_120_pd: integer (nullable = true)\n",
      " |-- num_actv_bc_tl: integer (nullable = true)\n",
      " |-- num_actv_rev_tl: integer (nullable = true)\n",
      " |-- num_bc_sats: integer (nullable = true)\n",
      " |-- num_bc_tl: integer (nullable = true)\n",
      " |-- num_il_tl: integer (nullable = true)\n",
      " |-- num_op_rev_tl: integer (nullable = true)\n",
      " |-- num_rev_accts: integer (nullable = true)\n",
      " |-- num_rev_tl_bal_gt_0: integer (nullable = true)\n",
      " |-- num_sats: integer (nullable = true)\n",
      " |-- num_tl_120dpd_2m: integer (nullable = true)\n",
      " |-- num_tl_30dpd: integer (nullable = true)\n",
      " |-- num_tl_90g_dpd_24m: integer (nullable = true)\n",
      " |-- num_tl_op_past_12m: integer (nullable = true)\n",
      " |-- pct_tl_nvr_dlq: double (nullable = true)\n",
      " |-- percent_bc_gt_75: double (nullable = true)\n",
      " |-- pub_rec_bankruptcies: integer (nullable = true)\n",
      " |-- tax_liens: integer (nullable = true)\n",
      " |-- tot_hi_cred_lim: integer (nullable = true)\n",
      " |-- total_bal_ex_mort: integer (nullable = true)\n",
      " |-- total_bc_limit: integer (nullable = true)\n",
      " |-- total_il_high_credit_limit: integer (nullable = true)\n",
      " |-- revol_bal_joint: integer (nullable = true)\n",
      " |-- sec_app_earliest_cr_line: string (nullable = true)\n",
      " |-- sec_app_inq_last_6mths: integer (nullable = true)\n",
      " |-- sec_app_mort_acc: integer (nullable = true)\n",
      " |-- sec_app_open_acc: integer (nullable = true)\n",
      " |-- sec_app_revol_util: double (nullable = true)\n",
      " |-- sec_app_open_act_il: integer (nullable = true)\n",
      " |-- sec_app_num_rev_accts: integer (nullable = true)\n",
      " |-- sec_app_chargeoff_within_12_mths: integer (nullable = true)\n",
      " |-- sec_app_collections_12_mths_ex_med: integer (nullable = true)\n",
      " |-- sec_app_mths_since_last_major_derog: integer (nullable = true)\n",
      " |-- hardship_flag: string (nullable = true)\n",
      " |-- hardship_type: string (nullable = true)\n",
      " |-- hardship_reason: string (nullable = true)\n",
      " |-- hardship_status: string (nullable = true)\n",
      " |-- deferral_term: integer (nullable = true)\n",
      " |-- hardship_amount: double (nullable = true)\n",
      " |-- hardship_start_date: string (nullable = true)\n",
      " |-- hardship_end_date: string (nullable = true)\n",
      " |-- payment_plan_start_date: string (nullable = true)\n",
      " |-- hardship_length: integer (nullable = true)\n",
      " |-- hardship_dpd: integer (nullable = true)\n",
      " |-- hardship_loan_status: string (nullable = true)\n",
      " |-- orig_projected_additional_accrued_interest: double (nullable = true)\n",
      " |-- hardship_payoff_balance_amount: double (nullable = true)\n",
      " |-- hardship_last_payment_amount: double (nullable = true)\n",
      " |-- disbursement_method: string (nullable = true)\n",
      " |-- debt_settlement_flag: string (nullable = true)\n",
      " |-- debt_settlement_flag_date: string (nullable = true)\n",
      " |-- settlement_status: string (nullable = true)\n",
      " |-- settlement_date: string (nullable = true)\n",
      " |-- settlement_amount: integer (nullable = true)\n",
      " |-- settlement_percentage: double (nullable = true)\n",
      " |-- settlement_term: integer (nullable = true)\n",
      "\n"
     ]
    }
   ],
   "source": [
    "df.printSchema()"
   ]
  },
  {
   "cell_type": "code",
   "execution_count": 16,
   "metadata": {},
   "outputs": [],
   "source": [
    "temp_table_name='loanstats'\n",
    "df.createOrReplaceTempView(temp_table_name)"
   ]
  },
  {
   "cell_type": "code",
   "execution_count": 1,
   "metadata": {},
   "outputs": [],
   "source": [
    "#spark.sql(\"select * from loanstats\").collect()"
   ]
  },
  {
   "cell_type": "code",
   "execution_count": 20,
   "metadata": {},
   "outputs": [
    {
     "data": {
      "text/plain": [
       "[Row(count(1)=128416)]"
      ]
     },
     "execution_count": 20,
     "metadata": {},
     "output_type": "execute_result"
    }
   ],
   "source": [
    "spark.sql(\"select count(*) from loanstats\").collect()"
   ]
  },
  {
   "cell_type": "code",
   "execution_count": 22,
   "metadata": {},
   "outputs": [
    {
     "name": "stdout",
     "output_type": "stream",
     "text": [
      "+-------+--------------------+---------+------------------+------------------+------------------+----------+--------+------------------+------+---------+------------------+----------+--------------+------------------+-------------------+-------+------------------+----------+----+----+--------+--------+--------+----------+------------------+-------------------+----------------+-------------------+----------------------+----------------------+-----------------+-------------------+------------------+----------+------------------+-------------------+------------------+------------------+-----------------+------------------+------------------+-----------------+-------------------+--------------------+-----------------------+------------+-----------------+------------+------------------+--------------------------+---------------------------+-----------+----------------+------------------+------------------+-------------------------+--------------+------------------+------------------+------------------+------------------+------------------+------------------+------------------+-----------------+------------------+------------------+------------------+-----------------+------------------+-----------------+------------------+------------------+------------------+--------------------+-----------------+------------------+------------------+------------------------+------------------+------------------+--------------------+---------------------+-----------------+------------------+--------------------+------------------------+---------------------+------------------------------+---------------------+------------------+-----------------+------------------+-----------------+-----------------+------------------+-----------------+-------------------+-----------------+----------------+------------+--------------------+------------------+-----------------+------------------+--------------------+---------+------------------+-----------------+------------------+--------------------------+------------------+------------------------+----------------------+------------------+------------------+------------------+-------------------+---------------------+--------------------------------+----------------------------------+-----------------------------------+-------------+--------------------+---------------+---------------+-------------+---------------+-------------------+-----------------+-----------------------+---------------+------------+--------------------+------------------------------------------+------------------------------+----------------------------+-------------------+--------------------+-------------------------+-----------------+---------------+-----------------+---------------------+-----------------+\n",
      "|summary|                  id|member_id|         loan_amnt|       funded_amnt|   funded_amnt_inv|      term|int_rate|       installment| grade|sub_grade|         emp_title|emp_length|home_ownership|        annual_inc|verification_status|issue_d|       loan_status|pymnt_plan| url|desc| purpose|   title|zip_code|addr_state|               dti|        delinq_2yrs|earliest_cr_line|     inq_last_6mths|mths_since_last_delinq|mths_since_last_record|         open_acc|            pub_rec|         revol_bal|revol_util|         total_acc|initial_list_status|         out_prncp|     out_prncp_inv|      total_pymnt|   total_pymnt_inv|   total_rec_prncp|    total_rec_int| total_rec_late_fee|          recoveries|collection_recovery_fee|last_pymnt_d|  last_pymnt_amnt|next_pymnt_d|last_credit_pull_d|collections_12_mths_ex_med|mths_since_last_major_derog|policy_code|application_type|  annual_inc_joint|         dti_joint|verification_status_joint|acc_now_delinq|      tot_coll_amt|       tot_cur_bal|       open_acc_6m|       open_act_il|       open_il_12m|       open_il_24m|mths_since_rcnt_il|     total_bal_il|           il_util|       open_rv_12m|       open_rv_24m|       max_bal_bc|          all_util| total_rev_hi_lim|            inq_fi|       total_cu_tl|      inq_last_12m|acc_open_past_24mths|      avg_cur_bal|    bc_open_to_buy|           bc_util|chargeoff_within_12_mths|       delinq_amnt|mo_sin_old_il_acct|mo_sin_old_rev_tl_op|mo_sin_rcnt_rev_tl_op|   mo_sin_rcnt_tl|          mort_acc|mths_since_recent_bc|mths_since_recent_bc_dlq|mths_since_recent_inq|mths_since_recent_revol_delinq|num_accts_ever_120_pd|    num_actv_bc_tl|  num_actv_rev_tl|       num_bc_sats|        num_bc_tl|        num_il_tl|     num_op_rev_tl|    num_rev_accts|num_rev_tl_bal_gt_0|         num_sats|num_tl_120dpd_2m|num_tl_30dpd|  num_tl_90g_dpd_24m|num_tl_op_past_12m|   pct_tl_nvr_dlq|  percent_bc_gt_75|pub_rec_bankruptcies|tax_liens|   tot_hi_cred_lim|total_bal_ex_mort|    total_bc_limit|total_il_high_credit_limit|   revol_bal_joint|sec_app_earliest_cr_line|sec_app_inq_last_6mths|  sec_app_mort_acc|  sec_app_open_acc|sec_app_revol_util|sec_app_open_act_il|sec_app_num_rev_accts|sec_app_chargeoff_within_12_mths|sec_app_collections_12_mths_ex_med|sec_app_mths_since_last_major_derog|hardship_flag|       hardship_type|hardship_reason|hardship_status|deferral_term|hardship_amount|hardship_start_date|hardship_end_date|payment_plan_start_date|hardship_length|hardship_dpd|hardship_loan_status|orig_projected_additional_accrued_interest|hardship_payoff_balance_amount|hardship_last_payment_amount|disbursement_method|debt_settlement_flag|debt_settlement_flag_date|settlement_status|settlement_date|settlement_amount|settlement_percentage|  settlement_term|\n",
      "+-------+--------------------+---------+------------------+------------------+------------------+----------+--------+------------------+------+---------+------------------+----------+--------------+------------------+-------------------+-------+------------------+----------+----+----+--------+--------+--------+----------+------------------+-------------------+----------------+-------------------+----------------------+----------------------+-----------------+-------------------+------------------+----------+------------------+-------------------+------------------+------------------+-----------------+------------------+------------------+-----------------+-------------------+--------------------+-----------------------+------------+-----------------+------------+------------------+--------------------------+---------------------------+-----------+----------------+------------------+------------------+-------------------------+--------------+------------------+------------------+------------------+------------------+------------------+------------------+------------------+-----------------+------------------+------------------+------------------+-----------------+------------------+-----------------+------------------+------------------+------------------+--------------------+-----------------+------------------+------------------+------------------------+------------------+------------------+--------------------+---------------------+-----------------+------------------+--------------------+------------------------+---------------------+------------------------------+---------------------+------------------+-----------------+------------------+-----------------+-----------------+------------------+-----------------+-------------------+-----------------+----------------+------------+--------------------+------------------+-----------------+------------------+--------------------+---------+------------------+-----------------+------------------+--------------------------+------------------+------------------------+----------------------+------------------+------------------+------------------+-------------------+---------------------+--------------------------------+----------------------------------+-----------------------------------+-------------+--------------------+---------------+---------------+-------------+---------------+-------------------+-----------------+-----------------------+---------------+------------+--------------------+------------------------------------------+------------------------------+----------------------------+-------------------+--------------------+-------------------------+-----------------+---------------+-----------------+---------------------+-----------------+\n",
      "|  count|                   2|        0|            128412|            128412|            128412|    128412|  128412|            128412|128412|   128412|            107466|    128412|        128412|            128412|             128412| 128412|            128412|    128412|   0|   0|  128412|  128412|  128412|    128412|            128175|             128412|          128412|             128412|                 56216|                 15450|           128412|             128412|            128412|    128256|            128412|             128412|            128412|            128412|           128412|            128412|            128412|           128412|             128412|              128412|                 128412|      128249|           128412|      123382|            128411|                    128412|                      29180|     128412|          128412|             16782|             16782|                    14848|        128412|            128412|            128412|            128412|            128412|            128412|            128412|            123934|           128412|            108138|            128412|            128412|           128412|            128375|           128412|            128412|            128412|            128412|              128412|           128399|            126721|            126658|                  128412|            128412|            123934|              128412|               128412|           128412|            128412|              126821|                   25169|               112365|                         36782|               128412|            128412|           128412|            128412|           128412|           128412|            128412|           128412|             128412|           128412|          125553|      128412|              128412|            128412|           128412|            126720|              128412|   128412|            128412|           128412|            128412|                    128412|             16782|                   16782|                 16782|             16782|             16782|             16524|              16782|                16782|                           16782|                             16782|                               5154|       128412|                   1|              1|              1|            1|              1|                  1|                1|                      1|              1|           1|                   1|                                         1|                             1|                           1|             128412|              128412|                        5|                5|              5|                5|                    5|                5|\n",
      "|   mean|                null|     null| 15971.32102139987| 15971.32102139987| 15968.49816614494|      null|    null|463.26122083604884|  null|     null|42.333333333333336|      null|          null|  82797.3278609476|               null|   null|              null|      null|null|null|    null|    null|    null|      null|19.933177530719778|0.22783696227766875|            null|0.44703766003177275|     36.88033655898676|     86.13016181229773|11.56405164626359|0.12184998286764477|16898.000957854405|      null|22.677413325857398|               null|14199.242107591357|14196.851785269451|2385.605985664754| 2385.075231364657|1757.9599911223816|627.4848519608684|0.13431548453656983|0.026823661340061675|   0.004828259041211102|        null|954.3985597918926|        null|              null|      0.017957823256393484|          46.55346127484579|        1.0|            null|133551.59692229767|19.226602312000985|                     null|           0.0|188.30428620378157| 146792.1954334486|0.9395072111640657| 2.760201538796997|0.6890711148490796|1.5726645484845654|20.201518550196074|36272.28023860698| 68.21175719913444|1.1959006946391304|   2.5407827928854|6062.072275176774|54.298812074001944|39382.18396255802|1.1145609444600193|1.5199280441080272|1.8769118150951625|   4.382697878702925|13828.37887366724|15357.302956889545| 50.04870122692595|    0.007086565118524749|0.9677678098620066|123.05692546032566|   173.0636233373828|   15.431634115191727|   8.635400118369|1.3231551568389248|  26.013956679098886|       40.41523302475267|   7.5528322876340495|            37.817274753955736|  0.46155343737345417| 3.659876024047597|5.414127963118712|4.8821293960066035|7.065943992773261|8.288524436968508| 8.199210354172507|12.86670248886397|  5.386342397906738|11.54671681774289|             0.0|         0.0|0.059488209824626985| 2.011642214123291|94.65984331682625| 32.90075599747551| 0.12173317135470205|      0.0|188485.22697255708|53560.97362396038|27439.534163473818|          46821.8001900134| 36642.79668692647|                    null|    0.5859849839113336|1.5871767369800978|11.436002860207365| 55.87883079157592| 3.0271123823143844|    12.42390656655941|             0.03616970563699202|               0.06298414968418543|                  38.51590997283663|         null|                null|           null|           null|          3.0|         378.39|               null|             null|                   null|            3.0|        22.0|                null|                                   1135.17|                      15351.85|                     1045.41|               null|                null|                     null|             null|           null|           5402.6|               64.024|             15.6|\n",
      "| stddev|                null|     null|10150.384232741915|10150.384232741915|10152.168969959743|      null|    null|285.71837061496865|  null|     null|60.583276020147125|      null|          null|108298.46579150054|               null|   null|              null|      null|null|null|    null|    null|    null|      null|20.143542243475462| 0.7337929617806088|            null|  0.734480494601085|     21.81380541370345|    21.880055467858227|5.981598599915456|0.33282509720220677|24082.550912035418|      null|12.129215673024731|               null|  9764.97412335499|  9766.27022765491| 3500.08015145213|3499.9604828301162|3411.6134041941023|520.6366301069888| 2.3826923116207253|   9.612157146687512|     1.7301882864037452|        null|3140.578731390126|        null|              null|       0.14656909506014967|          21.80171635505549|        0.0|            null| 96870.01060785717| 8.141631264595569|                     null|           0.0|1569.2900332525958|173872.66638818575|1.1453062243602823|2.9423770941116736| 0.935776078356445|1.5651182649945552|24.869930099899303| 47263.8742683232|23.589461430604807|1.4701234086691273|2.5243260814825255|5932.797468973051| 20.65573636586819|37945.74838043988|1.5014554099558968|2.7123277472263863| 2.296951169566644|  3.2092991618238544|17487.60534123845|19792.599022823757|28.791276443999948|     0.09592353243386022|112.15842117531022| 56.58169736553211|   100.2001985637194|   19.053975885770658|9.573207309980141|1.7131494988244331|   34.30672100720491|        22.3052703951109|   6.0570878383765505|             22.02383518648619|   1.3494118924470198|2.4480789423601856|3.439644201125048|3.2053048133996938|4.517164507177908|7.389194754721825|4.9589047173334375|7.873910626994584| 3.3883802209295357|5.977599473095348|             0.0|         0.0|  0.4106517365944234|1.8805586210680132| 8.98928793444376|34.899646961776014|  0.3325518553629026|      0.0|196553.63659189615|55993.35082192053|26377.282557410348|         49574.91126450033|32525.657340578986|                    null|    0.9360527358457791|1.8018781366582577|6.6901187046787625|26.071240784019686| 3.2543184225839386|    8.190066556285275|              0.3477258036611789|               0.36408269614055283|                 23.659435969981708|         null|                null|           null|           null|         null|           null|               null|             null|                   null|           null|        null|                null|                                      null|                          null|                        null|               null|                null|                     null|             null|           null|2851.191733293291|   2.2500844428598703|3.286335345030997|\n",
      "|    min|Total amount fund...|     null|              1000|              1000|             725.0| 36 months|  10.08%|             30.48|     A|       A1| \\tSlot technician|    1 year|           ANY|               0.0|       Not Verified| Dec-18|       Charged Off|         n|null|null|     car|Business|   010xx|        AK|               0.0|                  0|          Apr-00|                  0|                     0|                     5|                0|                  0|                 0|        0%|                 2|                  f|               0.0|               0.0|              0.0|               0.0|               0.0|              0.0|                0.0|                 0.0|                    0.0|      Dec-18|              0.0|      Apr-19|            Aug-18|                         0|                          0|          1|      Individual|            9000.0|               0.0|             Not Verified|             0|                 0|                 0|                 0|                 0|                 0|                 0|                 0|                0|                 0|                 0|                 0|                0|                 0|                0|                 0|                 0|                 0|                   0|                0|                 0|               0.0|                       0|                 0|                 0|                   3|                    0|                0|                 0|                   0|                       1|                    0|                             1|                    0|                 0|                0|                 0|                0|                0|                 0|                2|                  0|                0|               0|           0|                   0|                 0|              0.0|               0.0|                   0|        0|                 0|                0|                 0|                         0|                 0|                  Apr-00|                     0|                 0|                 0|               0.0|                  0|                    0|                               0|                                 0|                                  0|            N|INTEREST ONLY-3 M...|   UNEMPLOYMENT|         ACTIVE|            3|         378.39|             Feb-19|           Apr-19|                 Feb-19|              3|          22|   Late (16-30 days)|                                   1135.17|                      15351.85|                     1045.41|               Cash|                   N|                   Mar-19|           ACTIVE|         Feb-19|             2576|                 60.0|               12|\n",
      "|    max|Total amount fund...|     null|             40000|             40000|           40000.0| 60 months|   8.81%|           1618.24|     G|       G5|       youthworker|       n/a|          RENT|         9757200.0|           Verified| Oct-18|Late (31-120 days)|         y|null|null|vacation|Vacation|   999xx|        WY|             999.0|                 24|          Sep-99|                  5|                   160|                   119|               94|                  6|           2358150|    99.90%|               160|                  w|           40000.0|           40000.0|      43313.65022|          43313.65|           40000.0|          4981.05|              141.6|             3444.48|               620.0064|      Oct-18|         41253.54|      May-19|            Sep-18|                         8|                        162|          1|       Joint App|         6282000.0|             39.99|                 Verified|             0|            208593|           9971659|                13|                56|                 6|                19|               505|          1837038|               428|                22|                40|           338224|               188|          1596201|                29|                56|                51|                  43|           623229|            605996|             183.8|                       7|             31593|               827|                 826|                  382|              382|                87|                 640|                     152|                   25|                           160|                   31|                48|               59|                64|               69|              130|                69|              127|                 37|               94|               0|           0|                  23|                24|            100.0|             100.0|                   6|        0|           9999999|          2622906|            666200|                   2118996|           1110019|                  Sep-99|                     6|                15|                67|             170.1|                 34|                   95|                              21|                                15|                                153|            Y|INTEREST ONLY-3 M...|   UNEMPLOYMENT|         ACTIVE|            3|         378.39|             Feb-19|           Apr-19|                 Feb-19|              3|          22|   Late (16-30 days)|                                   1135.17|                      15351.85|                     1045.41|          DirectPay|                   Y|                   Mar-19|           BROKEN|         Mar-19|            10119|                65.12|               18|\n",
      "+-------+--------------------+---------+------------------+------------------+------------------+----------+--------+------------------+------+---------+------------------+----------+--------------+------------------+-------------------+-------+------------------+----------+----+----+--------+--------+--------+----------+------------------+-------------------+----------------+-------------------+----------------------+----------------------+-----------------+-------------------+------------------+----------+------------------+-------------------+------------------+------------------+-----------------+------------------+------------------+-----------------+-------------------+--------------------+-----------------------+------------+-----------------+------------+------------------+--------------------------+---------------------------+-----------+----------------+------------------+------------------+-------------------------+--------------+------------------+------------------+------------------+------------------+------------------+------------------+------------------+-----------------+------------------+------------------+------------------+-----------------+------------------+-----------------+------------------+------------------+------------------+--------------------+-----------------+------------------+------------------+------------------------+------------------+------------------+--------------------+---------------------+-----------------+------------------+--------------------+------------------------+---------------------+------------------------------+---------------------+------------------+-----------------+------------------+-----------------+-----------------+------------------+-----------------+-------------------+-----------------+----------------+------------+--------------------+------------------+-----------------+------------------+--------------------+---------+------------------+-----------------+------------------+--------------------------+------------------+------------------------+----------------------+------------------+------------------+------------------+-------------------+---------------------+--------------------------------+----------------------------------+-----------------------------------+-------------+--------------------+---------------+---------------+-------------+---------------+-------------------+-----------------+-----------------------+---------------+------------+--------------------+------------------------------------------+------------------------------+----------------------------+-------------------+--------------------+-------------------------+-----------------+---------------+-----------------+---------------------+-----------------+\n",
      "\n"
     ]
    }
   ],
   "source": [
    "df.describe().show()"
   ]
  },
  {
   "cell_type": "code",
   "execution_count": 28,
   "metadata": {},
   "outputs": [
    {
     "data": {
      "text/plain": [
       "['id',\n",
       " 'member_id',\n",
       " 'loan_amnt',\n",
       " 'funded_amnt',\n",
       " 'funded_amnt_inv',\n",
       " 'term',\n",
       " 'int_rate',\n",
       " 'installment',\n",
       " 'grade',\n",
       " 'sub_grade',\n",
       " 'emp_title',\n",
       " 'emp_length',\n",
       " 'home_ownership',\n",
       " 'annual_inc',\n",
       " 'verification_status',\n",
       " 'issue_d',\n",
       " 'loan_status',\n",
       " 'pymnt_plan',\n",
       " 'url',\n",
       " 'desc',\n",
       " 'purpose',\n",
       " 'title',\n",
       " 'zip_code',\n",
       " 'addr_state',\n",
       " 'dti',\n",
       " 'delinq_2yrs',\n",
       " 'earliest_cr_line',\n",
       " 'inq_last_6mths',\n",
       " 'mths_since_last_delinq',\n",
       " 'mths_since_last_record',\n",
       " 'open_acc',\n",
       " 'pub_rec',\n",
       " 'revol_bal',\n",
       " 'revol_util',\n",
       " 'total_acc',\n",
       " 'initial_list_status',\n",
       " 'out_prncp',\n",
       " 'out_prncp_inv',\n",
       " 'total_pymnt',\n",
       " 'total_pymnt_inv',\n",
       " 'total_rec_prncp',\n",
       " 'total_rec_int',\n",
       " 'total_rec_late_fee',\n",
       " 'recoveries',\n",
       " 'collection_recovery_fee',\n",
       " 'last_pymnt_d',\n",
       " 'last_pymnt_amnt',\n",
       " 'next_pymnt_d',\n",
       " 'last_credit_pull_d',\n",
       " 'collections_12_mths_ex_med',\n",
       " 'mths_since_last_major_derog',\n",
       " 'policy_code',\n",
       " 'application_type',\n",
       " 'annual_inc_joint',\n",
       " 'dti_joint',\n",
       " 'verification_status_joint',\n",
       " 'acc_now_delinq',\n",
       " 'tot_coll_amt',\n",
       " 'tot_cur_bal',\n",
       " 'open_acc_6m',\n",
       " 'open_act_il',\n",
       " 'open_il_12m',\n",
       " 'open_il_24m',\n",
       " 'mths_since_rcnt_il',\n",
       " 'total_bal_il',\n",
       " 'il_util',\n",
       " 'open_rv_12m',\n",
       " 'open_rv_24m',\n",
       " 'max_bal_bc',\n",
       " 'all_util',\n",
       " 'total_rev_hi_lim',\n",
       " 'inq_fi',\n",
       " 'total_cu_tl',\n",
       " 'inq_last_12m',\n",
       " 'acc_open_past_24mths',\n",
       " 'avg_cur_bal',\n",
       " 'bc_open_to_buy',\n",
       " 'bc_util',\n",
       " 'chargeoff_within_12_mths',\n",
       " 'delinq_amnt',\n",
       " 'mo_sin_old_il_acct',\n",
       " 'mo_sin_old_rev_tl_op',\n",
       " 'mo_sin_rcnt_rev_tl_op',\n",
       " 'mo_sin_rcnt_tl',\n",
       " 'mort_acc',\n",
       " 'mths_since_recent_bc',\n",
       " 'mths_since_recent_bc_dlq',\n",
       " 'mths_since_recent_inq',\n",
       " 'mths_since_recent_revol_delinq',\n",
       " 'num_accts_ever_120_pd',\n",
       " 'num_actv_bc_tl',\n",
       " 'num_actv_rev_tl',\n",
       " 'num_bc_sats',\n",
       " 'num_bc_tl',\n",
       " 'num_il_tl',\n",
       " 'num_op_rev_tl',\n",
       " 'num_rev_accts',\n",
       " 'num_rev_tl_bal_gt_0',\n",
       " 'num_sats',\n",
       " 'num_tl_120dpd_2m',\n",
       " 'num_tl_30dpd',\n",
       " 'num_tl_90g_dpd_24m',\n",
       " 'num_tl_op_past_12m',\n",
       " 'pct_tl_nvr_dlq',\n",
       " 'percent_bc_gt_75',\n",
       " 'pub_rec_bankruptcies',\n",
       " 'tax_liens',\n",
       " 'tot_hi_cred_lim',\n",
       " 'total_bal_ex_mort',\n",
       " 'total_bc_limit',\n",
       " 'total_il_high_credit_limit',\n",
       " 'revol_bal_joint',\n",
       " 'sec_app_earliest_cr_line',\n",
       " 'sec_app_inq_last_6mths',\n",
       " 'sec_app_mort_acc',\n",
       " 'sec_app_open_acc',\n",
       " 'sec_app_revol_util',\n",
       " 'sec_app_open_act_il',\n",
       " 'sec_app_num_rev_accts',\n",
       " 'sec_app_chargeoff_within_12_mths',\n",
       " 'sec_app_collections_12_mths_ex_med',\n",
       " 'sec_app_mths_since_last_major_derog',\n",
       " 'hardship_flag',\n",
       " 'hardship_type',\n",
       " 'hardship_reason',\n",
       " 'hardship_status',\n",
       " 'deferral_term',\n",
       " 'hardship_amount',\n",
       " 'hardship_start_date',\n",
       " 'hardship_end_date',\n",
       " 'payment_plan_start_date',\n",
       " 'hardship_length',\n",
       " 'hardship_dpd',\n",
       " 'hardship_loan_status',\n",
       " 'orig_projected_additional_accrued_interest',\n",
       " 'hardship_payoff_balance_amount',\n",
       " 'hardship_last_payment_amount',\n",
       " 'disbursement_method',\n",
       " 'debt_settlement_flag',\n",
       " 'debt_settlement_flag_date',\n",
       " 'settlement_status',\n",
       " 'settlement_date',\n",
       " 'settlement_amount',\n",
       " 'settlement_percentage',\n",
       " 'settlement_term']"
      ]
     },
     "execution_count": 28,
     "metadata": {},
     "output_type": "execute_result"
    }
   ],
   "source": [
    "df.columns"
   ]
  },
  {
   "cell_type": "code",
   "execution_count": 30,
   "metadata": {},
   "outputs": [],
   "source": [
    "df_sel=df.select(\"term\",\"home_ownership\",\"grade\",\"purpose\",\"int_rate\",\"addr_state\",\"loan_status\",\n",
    "                \"application_type\",\"loan_amnt\",\"emp_length\",\"annual_inc\",\"dti\",\"delinq_2yrs\",\"revol_util\",\"total_acc\",\n",
    "                \"num_tl_90g_dpd_24m\",\"dti_joint\")"
   ]
  },
  {
   "cell_type": "code",
   "execution_count": 31,
   "metadata": {},
   "outputs": [
    {
     "name": "stdout",
     "output_type": "stream",
     "text": [
      "+-------+----------+--------------+------+--------+--------+----------+------------------+----------------+------------------+----------+------------------+------------------+-------------------+----------+------------------+--------------------+------------------+\n",
      "|summary|      term|home_ownership| grade| purpose|int_rate|addr_state|       loan_status|application_type|         loan_amnt|emp_length|        annual_inc|               dti|        delinq_2yrs|revol_util|         total_acc|  num_tl_90g_dpd_24m|         dti_joint|\n",
      "+-------+----------+--------------+------+--------+--------+----------+------------------+----------------+------------------+----------+------------------+------------------+-------------------+----------+------------------+--------------------+------------------+\n",
      "|  count|    128412|        128412|128412|  128412|  128412|    128412|            128412|          128412|            128412|    128412|            128412|            128175|             128412|    128256|            128412|              128412|             16782|\n",
      "|   mean|      null|          null|  null|    null|    null|      null|              null|            null| 15971.32102139987|      null|  82797.3278609476|19.933177530719778|0.22783696227766875|      null|22.677413325857398|0.059488209824626985|19.226602312000985|\n",
      "| stddev|      null|          null|  null|    null|    null|      null|              null|            null|10150.384232741915|      null|108298.46579150054|20.143542243475462| 0.7337929617806088|      null|12.129215673024731|  0.4106517365944234| 8.141631264595569|\n",
      "|    min| 36 months|           ANY|     A|     car|  10.08%|        AK|       Charged Off|      Individual|              1000|    1 year|               0.0|               0.0|                  0|        0%|                 2|                   0|               0.0|\n",
      "|    max| 60 months|          RENT|     G|vacation|   8.81%|        WY|Late (31-120 days)|       Joint App|             40000|       n/a|         9757200.0|             999.0|                 24|    99.90%|               160|                  23|             39.99|\n",
      "+-------+----------+--------------+------+--------+--------+----------+------------------+----------------+------------------+----------+------------------+------------------+-------------------+----------+------------------+--------------------+------------------+\n",
      "\n"
     ]
    }
   ],
   "source": [
    "df_sel.describe().show()"
   ]
  },
  {
   "cell_type": "code",
   "execution_count": 32,
   "metadata": {},
   "outputs": [
    {
     "data": {
      "text/plain": [
       "DataFrame[term: string, home_ownership: string, grade: string, purpose: string, int_rate: string, addr_state: string, loan_status: string, application_type: string, loan_amnt: int, emp_length: string, annual_inc: double, dti: double, delinq_2yrs: int, revol_util: string, total_acc: int, num_tl_90g_dpd_24m: int, dti_joint: double]"
      ]
     },
     "execution_count": 32,
     "metadata": {},
     "output_type": "execute_result"
    }
   ],
   "source": [
    "df_sel.cache()"
   ]
  },
  {
   "cell_type": "code",
   "execution_count": 34,
   "metadata": {},
   "outputs": [
    {
     "data": {
      "text/plain": [
       "[Row(emp_length='5 years'),\n",
       " Row(emp_length='9 years'),\n",
       " Row(emp_length='1 year'),\n",
       " Row(emp_length='n/a'),\n",
       " Row(emp_length='2 years'),\n",
       " Row(emp_length='7 years'),\n",
       " Row(emp_length='8 years'),\n",
       " Row(emp_length='4 years'),\n",
       " Row(emp_length='6 years'),\n",
       " Row(emp_length='3 years'),\n",
       " Row(emp_length='10+ years'),\n",
       " Row(emp_length='< 1 year'),\n",
       " Row(emp_length=None)]"
      ]
     },
     "execution_count": 34,
     "metadata": {},
     "output_type": "execute_result"
    }
   ],
   "source": [
    "spark.sql(\"select distinct emp_length from loanstats limit 50\").collect()"
   ]
  },
  {
   "cell_type": "code",
   "execution_count": 36,
   "metadata": {},
   "outputs": [
    {
     "name": "stdout",
     "output_type": "stream",
     "text": [
      "+----------+\n",
      "|emp_length|\n",
      "+----------+\n",
      "|   5 years|\n",
      "|   9 years|\n",
      "|    1 year|\n",
      "|       n/a|\n",
      "|   2 years|\n",
      "|   7 years|\n",
      "|   8 years|\n",
      "|   4 years|\n",
      "|   6 years|\n",
      "|   3 years|\n",
      "| 10+ years|\n",
      "|  < 1 year|\n",
      "|      null|\n",
      "+----------+\n",
      "\n"
     ]
    }
   ],
   "source": [
    "df.select('emp_length').distinct().show()"
   ]
  },
  {
   "cell_type": "code",
   "execution_count": 41,
   "metadata": {},
   "outputs": [
    {
     "name": "stdout",
     "output_type": "stream",
     "text": [
      "+-----------------+----------+\n",
      "|emplength_cleaned|emp_length|\n",
      "+-----------------+----------+\n",
      "|               1 |  < 1 year|\n",
      "|              10 | 10+ years|\n",
      "|               1 |  < 1 year|\n",
      "|              n/a|       n/a|\n",
      "|               5 |   5 years|\n",
      "|               9 |   9 years|\n",
      "|               3 |   3 years|\n",
      "|              10 | 10+ years|\n",
      "|              n/a|       n/a|\n",
      "|              10 | 10+ years|\n",
      "+-----------------+----------+\n",
      "only showing top 10 rows\n",
      "\n"
     ]
    }
   ],
   "source": [
    "from pyspark.sql.functions import regexp_extract,regexp_replace\n",
    "from pyspark.sql.functions import col\n",
    "regex_string=r'years|year|\\+|\\<'\n",
    "df_sel.select(regexp_replace(col(\"emp_length\"),regex_string,\"\").alias(\"emplength_cleaned\"),col(\"emp_length\")).show(10)"
   ]
  },
  {
   "cell_type": "code",
   "execution_count": 45,
   "metadata": {},
   "outputs": [
    {
     "name": "stdout",
     "output_type": "stream",
     "text": [
      "+-----------------+----------+\n",
      "|emplength_cleaned|emp_length|\n",
      "+-----------------+----------+\n",
      "|                1|  < 1 year|\n",
      "|               10| 10+ years|\n",
      "|                1|  < 1 year|\n",
      "|                 |       n/a|\n",
      "|                5|   5 years|\n",
      "|                9|   9 years|\n",
      "|                3|   3 years|\n",
      "|               10| 10+ years|\n",
      "|                 |       n/a|\n",
      "|               10| 10+ years|\n",
      "+-----------------+----------+\n",
      "only showing top 10 rows\n",
      "\n"
     ]
    }
   ],
   "source": [
    "regex_string=r'\\d+'\n",
    "\n",
    "df_sel.select(regexp_extract(col('emp_length'),regex_string,0).alias(\"emplength_cleaned\"),col(\"emp_length\")).show(10)"
   ]
  },
  {
   "cell_type": "code",
   "execution_count": 52,
   "metadata": {},
   "outputs": [],
   "source": [
    "df_sel=df_sel.withColumn(\"termcleaned\",regexp_replace(col(\"term\"),\"months\",\"\"))\\\n",
    "    .withColumn(\"emplen_cleaned\",regexp_extract(col(\"emp_length\"),\"\\\\d+\",0))"
   ]
  },
  {
   "cell_type": "code",
   "execution_count": 55,
   "metadata": {},
   "outputs": [
    {
     "name": "stdout",
     "output_type": "stream",
     "text": [
      "+----------+-----------+----------+--------------+\n",
      "|      term|termcleaned|emp_length|emplen_cleaned|\n",
      "+----------+-----------+----------+--------------+\n",
      "| 36 months|        36 |  < 1 year|             1|\n",
      "| 36 months|        36 | 10+ years|            10|\n",
      "| 60 months|        60 |  < 1 year|             1|\n",
      "| 60 months|        60 |       n/a|              |\n",
      "| 60 months|        60 |   5 years|             5|\n",
      "| 36 months|        36 |   9 years|             9|\n",
      "| 36 months|        36 |   3 years|             3|\n",
      "| 36 months|        36 | 10+ years|            10|\n",
      "| 36 months|        36 |       n/a|              |\n",
      "| 36 months|        36 | 10+ years|            10|\n",
      "| 60 months|        60 |  < 1 year|             1|\n",
      "| 60 months|        60 | 10+ years|            10|\n",
      "| 60 months|        60 | 10+ years|            10|\n",
      "| 36 months|        36 |   6 years|             6|\n",
      "| 60 months|        60 |   5 years|             5|\n",
      "| 60 months|        60 | 10+ years|            10|\n",
      "| 36 months|        36 |   2 years|             2|\n",
      "| 60 months|        60 | 10+ years|            10|\n",
      "| 60 months|        60 |  < 1 year|             1|\n",
      "| 36 months|        36 |   6 years|             6|\n",
      "+----------+-----------+----------+--------------+\n",
      "only showing top 20 rows\n",
      "\n"
     ]
    }
   ],
   "source": [
    "df_sel.select('term','termcleaned','emp_length','emplen_cleaned').show()"
   ]
  },
  {
   "cell_type": "code",
   "execution_count": 57,
   "metadata": {},
   "outputs": [
    {
     "name": "stdout",
     "output_type": "stream",
     "text": [
      "root\n",
      " |-- term: string (nullable = true)\n",
      " |-- home_ownership: string (nullable = true)\n",
      " |-- grade: string (nullable = true)\n",
      " |-- purpose: string (nullable = true)\n",
      " |-- int_rate: string (nullable = true)\n",
      " |-- addr_state: string (nullable = true)\n",
      " |-- loan_status: string (nullable = true)\n",
      " |-- application_type: string (nullable = true)\n",
      " |-- loan_amnt: integer (nullable = true)\n",
      " |-- emp_length: string (nullable = true)\n",
      " |-- annual_inc: double (nullable = true)\n",
      " |-- dti: double (nullable = true)\n",
      " |-- delinq_2yrs: integer (nullable = true)\n",
      " |-- revol_util: string (nullable = true)\n",
      " |-- total_acc: integer (nullable = true)\n",
      " |-- num_tl_90g_dpd_24m: integer (nullable = true)\n",
      " |-- dti_joint: double (nullable = true)\n",
      " |-- termcleaned: string (nullable = true)\n",
      " |-- emplen_cleaned: string (nullable = true)\n",
      "\n"
     ]
    }
   ],
   "source": [
    "df_sel.printSchema()"
   ]
  },
  {
   "cell_type": "code",
   "execution_count": 58,
   "metadata": {},
   "outputs": [],
   "source": [
    "table_name='loanstatus_sel'\n",
    "df_sel.createOrReplaceTempView(table_name)"
   ]
  },
  {
   "cell_type": "code",
   "execution_count": 2,
   "metadata": {},
   "outputs": [],
   "source": [
    "#spark.sql(\"select * from loanstatus_sel\").collect()"
   ]
  },
  {
   "cell_type": "code",
   "execution_count": 61,
   "metadata": {},
   "outputs": [
    {
     "data": {
      "text/plain": [
       "221023240.2067125"
      ]
     },
     "execution_count": 61,
     "metadata": {},
     "output_type": "execute_result"
    }
   ],
   "source": [
    "df_sel.stat.cov('annual_inc','loan_amnt')"
   ]
  },
  {
   "cell_type": "code",
   "execution_count": 64,
   "metadata": {},
   "outputs": [
    {
     "data": {
      "text/plain": [
       "0.2010601414848658"
      ]
     },
     "execution_count": 64,
     "metadata": {},
     "output_type": "execute_result"
    }
   ],
   "source": [
    "df_sel.stat.corr('annual_inc','loan_amnt') #close to zero not correlated"
   ]
  },
  {
   "cell_type": "code",
   "execution_count": 72,
   "metadata": {},
   "outputs": [
    {
     "data": {
      "text/plain": [
       "[Row(value=0.3925941141844228)]"
      ]
     },
     "execution_count": 72,
     "metadata": {},
     "output_type": "execute_result"
    }
   ],
   "source": [
    "spark.sql(\"select corr(loan_amnt,termcleaned) as value from loanstatus_sel\").collect()"
   ]
  },
  {
   "cell_type": "code",
   "execution_count": 73,
   "metadata": {},
   "outputs": [
    {
     "name": "stdout",
     "output_type": "stream",
     "text": [
      "+------------------+-----+-----+-----+-----+----+---+---+----+\n",
      "| loan_status_grade|    A|    B|    C|    D|   E|  F|  G|null|\n",
      "+------------------+-----+-----+-----+-----+----+---+---+----+\n",
      "|   In Grace Period|   74|  112|  146|  122|  54|  4|  1|   0|\n",
      "|        Fully Paid| 1188| 1333| 1175|  807| 360| 36|  9|   0|\n",
      "|              null|    0|    0|    0|    0|   0|  0|  0|   4|\n",
      "|Late (31-120 days)|   68|  164|  234|  220| 142| 14|  7|   0|\n",
      "| Late (16-30 days)|   26|   78|  102|   81|  46|  9|  2|   0|\n",
      "|           Current|36639|34139|29323|15823|5352|321| 79|   0|\n",
      "|       Charged Off|   16|   35|   38|   19|   8|  3|  3|   0|\n",
      "+------------------+-----+-----+-----+-----+----+---+---+----+\n",
      "\n"
     ]
    }
   ],
   "source": [
    "df_sel.stat.crosstab('loan_status','grade').show() #frequency"
   ]
  },
  {
   "cell_type": "code",
   "execution_count": 86,
   "metadata": {},
   "outputs": [],
   "source": [
    "freq=df_sel.stat.freqItems(['purpose','grade'],0.3)"
   ]
  },
  {
   "cell_type": "code",
   "execution_count": 87,
   "metadata": {},
   "outputs": [
    {
     "data": {
      "text/plain": [
       "[Row(purpose_freqItems=['debt_consolidation', 'credit_card', None], grade_freqItems=['A', 'C', 'B'])]"
      ]
     },
     "execution_count": 87,
     "metadata": {},
     "output_type": "execute_result"
    }
   ],
   "source": [
    "freq.collect()"
   ]
  },
  {
   "cell_type": "code",
   "execution_count": 88,
   "metadata": {},
   "outputs": [
    {
     "name": "stdout",
     "output_type": "stream",
     "text": [
      "+------------------+-----+\n",
      "|           purpose|count|\n",
      "+------------------+-----+\n",
      "|debt_consolidation|70603|\n",
      "|       credit_card|34961|\n",
      "|  home_improvement| 7512|\n",
      "|             other| 7094|\n",
      "|    major_purchase| 2303|\n",
      "|           medical| 1499|\n",
      "|    small_business| 1051|\n",
      "|               car| 1037|\n",
      "|             house|  823|\n",
      "|          vacation|  802|\n",
      "|            moving|  656|\n",
      "|  renewable_energy|   71|\n",
      "|              null|    4|\n",
      "+------------------+-----+\n",
      "\n"
     ]
    }
   ],
   "source": [
    "df_sel.groupby('purpose').count().orderBy(col('count').desc()).show()"
   ]
  },
  {
   "cell_type": "code",
   "execution_count": 90,
   "metadata": {},
   "outputs": [
    {
     "data": {
      "text/plain": [
       "[8000.0, 13000.0, 20000.0, 30000.0]"
      ]
     },
     "execution_count": 90,
     "metadata": {},
     "output_type": "execute_result"
    }
   ],
   "source": [
    "from pyspark.sql.functions import count,mean,stddev_pop,min,max,avg\n",
    "quantileProbs=[0.25,0.5,0.75,0.9]\n",
    "relError=0.05\n",
    "df_sel.stat.approxQuantile('loan_amnt',quantileProbs,relError)"
   ]
  },
  {
   "cell_type": "code",
   "execution_count": 91,
   "metadata": {},
   "outputs": [
    {
     "data": {
      "text/plain": [
       "[8000.0, 14000.0, 21600.0, 32000.0]"
      ]
     },
     "execution_count": 91,
     "metadata": {},
     "output_type": "execute_result"
    }
   ],
   "source": [
    "quantileProbs=[0.25,0.5,0.75,0.9]\n",
    "relError=0\n",
    "df_sel.stat.approxQuantile('loan_amnt',quantileProbs,relError)"
   ]
  },
  {
   "cell_type": "code",
   "execution_count": 103,
   "metadata": {},
   "outputs": [
    {
     "name": "stdout",
     "output_type": "stream",
     "text": [
      "+----+--------------+-----+-------+--------+----------+-----------+----------------+---------+----------+----------+---+-----------+----------+---------+------------------+---------+-----------+--------------+\n",
      "|term|home_ownership|grade|purpose|int_rate|addr_state|loan_status|application_type|loan_amnt|emp_length|annual_inc|dti|delinq_2yrs|revol_util|total_acc|num_tl_90g_dpd_24m|dti_joint|termcleaned|emplen_cleaned|\n",
      "+----+--------------+-----+-------+--------+----------+-----------+----------------+---------+----------+----------+---+-----------+----------+---------+------------------+---------+-----------+--------------+\n",
      "|   4|             4|    4|      4|       4|         4|          4|               4|        4|         4|         4|241|          4|       160|        4|                 4|   111634|          4|             4|\n",
      "+----+--------------+-----+-------+--------+----------+-----------+----------------+---------+----------+----------+---+-----------+----------+---------+------------------+---------+-----------+--------------+\n",
      "\n"
     ]
    }
   ],
   "source": [
    "from pyspark.sql.functions import isnan,when,count,col\n",
    "df_sel.select([count(when(isnan(c) | col(c).isNull(),c)).alias(c) for c in df_sel.columns]).show()\n"
   ]
  },
  {
   "cell_type": "code",
   "execution_count": 116,
   "metadata": {},
   "outputs": [
    {
     "data": {
      "text/plain": [
       "[Row(loan_status='Current', count(1)=121676),\n",
       " Row(loan_status='Fully Paid', count(1)=4908),\n",
       " Row(loan_status='Late (31-120 days)', count(1)=849),\n",
       " Row(loan_status='In Grace Period', count(1)=513),\n",
       " Row(loan_status='Late (16-30 days)', count(1)=344),\n",
       " Row(loan_status='Charged Off', count(1)=122),\n",
       " Row(loan_status=None, count(1)=4)]"
      ]
     },
     "execution_count": 116,
     "metadata": {},
     "output_type": "execute_result"
    }
   ],
   "source": [
    "spark.sql(\"select loan_status,count(*) from loanstats group  by loan_status order by 2 desc\").collect()"
   ]
  },
  {
   "cell_type": "code",
   "execution_count": 118,
   "metadata": {},
   "outputs": [],
   "source": [
    "#Since we want to perform analysis on loan status we need to handle null values\n",
    "\n",
    "df_sel=df_sel.dropna('all',subset=['loan_status'])"
   ]
  },
  {
   "cell_type": "code",
   "execution_count": 122,
   "metadata": {},
   "outputs": [
    {
     "name": "stdout",
     "output_type": "stream",
     "text": [
      "+----+--------------+-----+-------+--------+----------+-----------+----------------+---------+----------+----------+---+-----------+----------+---------+------------------+---------+-----------+--------------+\n",
      "|term|home_ownership|grade|purpose|int_rate|addr_state|loan_status|application_type|loan_amnt|emp_length|annual_inc|dti|delinq_2yrs|revol_util|total_acc|num_tl_90g_dpd_24m|dti_joint|termcleaned|emplen_cleaned|\n",
      "+----+--------------+-----+-------+--------+----------+-----------+----------------+---------+----------+----------+---+-----------+----------+---------+------------------+---------+-----------+--------------+\n",
      "|   0|             0|    0|      0|       0|         0|          0|               0|        0|         0|         0|237|          0|       156|        0|                 0|   111630|          0|             0|\n",
      "+----+--------------+-----+-------+--------+----------+-----------+----------------+---------+----------+----------+---+-----------+----------+---------+------------------+---------+-----------+--------------+\n",
      "\n"
     ]
    }
   ],
   "source": [
    "df_sel.select([count(when(isnan(c) | col(c).isNull(),c)).alias(c) for c in df_sel.columns]).show()"
   ]
  },
  {
   "cell_type": "code",
   "execution_count": 144,
   "metadata": {},
   "outputs": [
    {
     "name": "stdout",
     "output_type": "stream",
     "text": [
      "+-------+------------------+----------+\n",
      "|summary|               dti|revol_util|\n",
      "+-------+------------------+----------+\n",
      "|  count|            128175|    128256|\n",
      "|   mean|19.933177530719778|      null|\n",
      "| stddev|20.143542243475462|      null|\n",
      "|    min|               0.0|        0%|\n",
      "|    max|             999.0|    99.90%|\n",
      "+-------+------------------+----------+\n",
      "\n"
     ]
    }
   ],
   "source": [
    "df_sel.describe('dti','revol_util').show()"
   ]
  },
  {
   "cell_type": "code",
   "execution_count": 146,
   "metadata": {},
   "outputs": [
    {
     "name": "stdout",
     "output_type": "stream",
     "text": [
      "+----------+\n",
      "|revol_util|\n",
      "+----------+\n",
      "|        38|\n",
      "|     10.30|\n",
      "|     55.50|\n",
      "|     37.20|\n",
      "|     24.80|\n",
      "|     37.50|\n",
      "|     19.20|\n",
      "|     33.50|\n",
      "|     11.50|\n",
      "|     81.30|\n",
      "+----------+\n",
      "only showing top 10 rows\n",
      "\n"
     ]
    }
   ],
   "source": [
    "df_sel.select(regexp_replace(col('revol_util'),'\\%','').alias(\"revol_util\")).show(10)"
   ]
  },
  {
   "cell_type": "code",
   "execution_count": 147,
   "metadata": {},
   "outputs": [],
   "source": [
    "df_sel=df_sel.withColumn(\"revolutil_cleaned\",regexp_extract(col('revol_util'),'\\\\d+',0))"
   ]
  },
  {
   "cell_type": "code",
   "execution_count": 149,
   "metadata": {},
   "outputs": [
    {
     "name": "stdout",
     "output_type": "stream",
     "text": [
      "+-------+----------+------------------+\n",
      "|summary|revol_util| revolutil_cleaned|\n",
      "+-------+----------+------------------+\n",
      "|  count|    128256|            128256|\n",
      "|   mean|      null| 43.76206961077844|\n",
      "| stddev|      null|24.801849528207015|\n",
      "|    min|        0%|                 0|\n",
      "|    max|    99.90%|                99|\n",
      "+-------+----------+------------------+\n",
      "\n"
     ]
    }
   ],
   "source": [
    "df_sel.describe('revol_util','revolutil_cleaned').show()"
   ]
  },
  {
   "cell_type": "code",
   "execution_count": 155,
   "metadata": {},
   "outputs": [
    {
     "data": {
      "text/plain": [
       "43.76206961077844"
      ]
     },
     "execution_count": 155,
     "metadata": {},
     "output_type": "execute_result"
    }
   ],
   "source": [
    "df_sel.select('revolutil_cleaned').agg(avg('revolutil_cleaned')).first()[0]"
   ]
  },
  {
   "cell_type": "code",
   "execution_count": 150,
   "metadata": {},
   "outputs": [],
   "source": [
    "def fill_avg(df,colname):\n",
    "    return df.select(colname).agg(avg(colname))"
   ]
  },
  {
   "cell_type": "code",
   "execution_count": 152,
   "metadata": {},
   "outputs": [],
   "source": [
    "rev_avg=fill_avg(df_sel,'revolutil_cleaned')"
   ]
  },
  {
   "cell_type": "code",
   "execution_count": 156,
   "metadata": {},
   "outputs": [],
   "source": [
    "from pyspark.sql.functions import lit\n",
    "rev_avg=fill_avg(df_sel,'revolutil_cleaned').first()[0]\n",
    "df_sel=df_sel.withColumn('rev_avg',lit(rev_avg))"
   ]
  },
  {
   "cell_type": "code",
   "execution_count": 158,
   "metadata": {},
   "outputs": [],
   "source": [
    "from pyspark.sql.functions import coalesce\n",
    "df_sel=df_sel.withColumn('revolutil_cleaned',coalesce(col('revolutil_cleaned'),col('rev_avg')))"
   ]
  },
  {
   "cell_type": "code",
   "execution_count": 159,
   "metadata": {},
   "outputs": [
    {
     "name": "stdout",
     "output_type": "stream",
     "text": [
      "+-------+----------+------------------+\n",
      "|summary|revol_util| revolutil_cleaned|\n",
      "+-------+----------+------------------+\n",
      "|  count|    128256|            128412|\n",
      "|   mean|      null|43.762069610778525|\n",
      "| stddev|      null| 24.78677969645398|\n",
      "|    min|        0%|                 0|\n",
      "|    max|    99.90%|                99|\n",
      "+-------+----------+------------------+\n",
      "\n"
     ]
    }
   ],
   "source": [
    "df_sel.describe('revol_util','revolutil_cleaned').show()"
   ]
  },
  {
   "cell_type": "code",
   "execution_count": 160,
   "metadata": {},
   "outputs": [],
   "source": [
    "df_sel=df_sel.withColumn(\"revolutil_cleaned\",df_sel['revolutil_cleaned'].cast('double'))"
   ]
  },
  {
   "cell_type": "code",
   "execution_count": 161,
   "metadata": {},
   "outputs": [
    {
     "name": "stdout",
     "output_type": "stream",
     "text": [
      "+-------+----------+------------------+\n",
      "|summary|revol_util| revolutil_cleaned|\n",
      "+-------+----------+------------------+\n",
      "|  count|    128256|            128412|\n",
      "|   mean|      null|43.762069610778525|\n",
      "| stddev|      null| 24.78677969645398|\n",
      "|    min|        0%|               0.0|\n",
      "|    max|    99.90%|             183.0|\n",
      "+-------+----------+------------------+\n",
      "\n"
     ]
    }
   ],
   "source": [
    "df_sel.describe('revol_util','revolutil_cleaned').show()"
   ]
  },
  {
   "cell_type": "code",
   "execution_count": 162,
   "metadata": {},
   "outputs": [
    {
     "name": "stdout",
     "output_type": "stream",
     "text": [
      "+----+--------------+-----+-------+--------+----------+-----------+----------------+---------+----------+----------+---+-----------+----------+---------+------------------+---------+-----------+--------------+-----------------+-------+\n",
      "|term|home_ownership|grade|purpose|int_rate|addr_state|loan_status|application_type|loan_amnt|emp_length|annual_inc|dti|delinq_2yrs|revol_util|total_acc|num_tl_90g_dpd_24m|dti_joint|termcleaned|emplen_cleaned|revolutil_cleaned|rev_avg|\n",
      "+----+--------------+-----+-------+--------+----------+-----------+----------------+---------+----------+----------+---+-----------+----------+---------+------------------+---------+-----------+--------------+-----------------+-------+\n",
      "|   0|             0|    0|      0|       0|         0|          0|               0|        0|         0|         0|237|          0|       156|        0|                 0|   111630|          0|             0|                0|      0|\n",
      "+----+--------------+-----+-------+--------+----------+-----------+----------------+---------+----------+----------+---+-----------+----------+---------+------------------+---------+-----------+--------------+-----------------+-------+\n",
      "\n"
     ]
    }
   ],
   "source": [
    "df_sel.select([count(when(isnan(c) | col(c).isNull(),c)).alias(c) for c in df_sel.columns]).show()"
   ]
  },
  {
   "cell_type": "code",
   "execution_count": 167,
   "metadata": {},
   "outputs": [
    {
     "name": "stdout",
     "output_type": "stream",
     "text": [
      "+----------------+----+---------+\n",
      "|application_type| dti|dti_joint|\n",
      "+----------------+----+---------+\n",
      "|       Joint App|null|    33.06|\n",
      "|       Joint App|null|    17.67|\n",
      "|       Joint App|null|     27.3|\n",
      "|       Joint App|null|     8.74|\n",
      "|       Joint App|null|    11.68|\n",
      "|       Joint App|null|    28.01|\n",
      "|       Joint App|null|    15.06|\n",
      "|       Joint App|null|    12.79|\n",
      "|       Joint App|null|     8.05|\n",
      "|       Joint App|null|    24.22|\n",
      "|       Joint App|null|    20.04|\n",
      "|       Joint App|null|    12.75|\n",
      "|       Joint App|null|    24.89|\n",
      "|       Joint App|null|    22.61|\n",
      "|       Joint App|null|    19.01|\n",
      "|       Joint App|null|    15.34|\n",
      "|       Joint App|null|      0.6|\n",
      "|       Joint App|null|    23.69|\n",
      "|       Joint App|null|    17.29|\n",
      "|       Joint App|null|    29.25|\n",
      "+----------------+----+---------+\n",
      "only showing top 20 rows\n",
      "\n"
     ]
    }
   ],
   "source": [
    "df_sel.select('application_type','dti','dti_joint').filter(df_sel.dti.isNull()).show()"
   ]
  },
  {
   "cell_type": "code",
   "execution_count": 168,
   "metadata": {},
   "outputs": [],
   "source": [
    "df_sel=df_sel.withColumn('dti_cleaned',coalesce(col('dti'),col('dti_joint')))"
   ]
  },
  {
   "cell_type": "code",
   "execution_count": 169,
   "metadata": {},
   "outputs": [
    {
     "name": "stdout",
     "output_type": "stream",
     "text": [
      "+----+--------------+-----+-------+--------+----------+-----------+----------------+---------+----------+----------+---+-----------+----------+---------+------------------+---------+-----------+--------------+-----------------+-------+-----------+\n",
      "|term|home_ownership|grade|purpose|int_rate|addr_state|loan_status|application_type|loan_amnt|emp_length|annual_inc|dti|delinq_2yrs|revol_util|total_acc|num_tl_90g_dpd_24m|dti_joint|termcleaned|emplen_cleaned|revolutil_cleaned|rev_avg|dti_cleaned|\n",
      "+----+--------------+-----+-------+--------+----------+-----------+----------------+---------+----------+----------+---+-----------+----------+---------+------------------+---------+-----------+--------------+-----------------+-------+-----------+\n",
      "|   0|             0|    0|      0|       0|         0|          0|               0|        0|         0|         0|237|          0|       156|        0|                 0|   111630|          0|             0|                0|      0|          0|\n",
      "+----+--------------+-----+-------+--------+----------+-----------+----------------+---------+----------+----------+---+-----------+----------+---------+------------------+---------+-----------+--------------+-----------------+-------+-----------+\n",
      "\n"
     ]
    }
   ],
   "source": [
    "df_sel.select([count(when(isnan(c) | col(c).isNull(),c)).alias(c) for c in df_sel.columns]).show()"
   ]
  },
  {
   "cell_type": "code",
   "execution_count": 170,
   "metadata": {},
   "outputs": [
    {
     "name": "stdout",
     "output_type": "stream",
     "text": [
      "+------------------+------+\n",
      "|       loan_status| count|\n",
      "+------------------+------+\n",
      "|        Fully Paid|  4908|\n",
      "|   In Grace Period|   513|\n",
      "|       Charged Off|   122|\n",
      "|Late (31-120 days)|   849|\n",
      "|           Current|121676|\n",
      "| Late (16-30 days)|   344|\n",
      "+------------------+------+\n",
      "\n"
     ]
    }
   ],
   "source": [
    "df_sel.groupby('loan_status').count().show()"
   ]
  },
  {
   "cell_type": "code",
   "execution_count": 171,
   "metadata": {},
   "outputs": [
    {
     "name": "stdout",
     "output_type": "stream",
     "text": [
      "+----------+--------------+-----+------------------+--------+----------+------------------+----------------+---------+----------+----------+-----+-----------+----------+---------+------------------+---------+-----------+--------------+-----------------+-----------------+-----------+\n",
      "|      term|home_ownership|grade|           purpose|int_rate|addr_state|       loan_status|application_type|loan_amnt|emp_length|annual_inc|  dti|delinq_2yrs|revol_util|total_acc|num_tl_90g_dpd_24m|dti_joint|termcleaned|emplen_cleaned|revolutil_cleaned|          rev_avg|dti_cleaned|\n",
      "+----------+--------------+-----+------------------+--------+----------+------------------+----------------+---------+----------+----------+-----+-----------+----------+---------+------------------+---------+-----------+--------------+-----------------+-----------------+-----------+\n",
      "| 36 months|          RENT|    B|debt_consolidation|  10.33%|        PA|Late (31-120 days)|      Individual|    16000|   3 years|   71000.0|16.58|          0|    11.80%|       28|                 0|     null|        36 |             3|             11.0|43.76206961077844|      16.58|\n",
      "| 60 months|      MORTGAGE|    D|debt_consolidation|  22.35%|        OH|Late (31-120 days)|       Joint App|    17500|   9 years|   50000.0|36.92|          0|    35.40%|       37|                 0|    36.79|        60 |             9|             35.0|43.76206961077844|      36.92|\n",
      "| 60 months|          RENT|    C|debt_consolidation|  15.02%|        NY|Late (31-120 days)|      Individual|    30000|   2 years|   90000.0|14.28|          0|    14.90%|       10|                 0|     null|        60 |             2|             14.0|43.76206961077844|      14.28|\n",
      "| 36 months|      MORTGAGE|    A|debt_consolidation|   8.19%|        PA|Late (31-120 days)|      Individual|    20975|   2 years|  165000.0|24.27|          0|    16.60%|       21|                 0|     null|        36 |             2|             16.0|43.76206961077844|      24.27|\n",
      "| 60 months|          RENT|    A|debt_consolidation|   8.19%|        CA|Late (31-120 days)|      Individual|    14000|  < 1 year|   65000.0|13.48|          0|    39.10%|       18|                 0|     null|        60 |             1|             39.0|43.76206961077844|      13.48|\n",
      "| 36 months|          RENT|    A|debt_consolidation|   8.19%|        WA|Late (31-120 days)|      Individual|    14000|    1 year|   36000.0|25.83|          0|    73.60%|       11|                 0|     null|        36 |             1|             73.0|43.76206961077844|      25.83|\n",
      "| 36 months|          RENT|    B|          vacation|  11.80%|        NC|Late (31-120 days)|      Individual|    20000|   3 years|   50000.0| 9.18|          0|    13.90%|       26|                 0|     null|        36 |             3|             13.0|43.76206961077844|       9.18|\n",
      "| 36 months|          RENT|    B|debt_consolidation|  11.80%|        NJ|Late (31-120 days)|      Individual|    32000|  < 1 year|   50000.0|  6.1|          0|    50.30%|       28|                 0|     null|        36 |             1|             50.0|43.76206961077844|        6.1|\n",
      "| 36 months|           OWN|    E|             other|  26.31%|        IN|Late (31-120 days)|      Individual|     9100|   3 years|   62000.0|13.38|          0|    12.10%|       23|                 0|     null|        36 |             3|             12.0|43.76206961077844|      13.38|\n",
      "| 36 months|          RENT|    C|       credit_card|  13.56%|        OR|Late (31-120 days)|      Individual|     5000|    1 year|   50000.0|16.77|          0|    30.50%|        9|                 0|     null|        36 |             1|             30.0|43.76206961077844|      16.77|\n",
      "| 60 months|          RENT|    C|    major_purchase|  14.47%|        CA|Late (31-120 days)|      Individual|    36000|   9 years|   93600.0| 4.14|          0|     0.30%|       29|                 0|     null|        60 |             9|              0.0|43.76206961077844|       4.14|\n",
      "| 36 months|          RENT|    E|       credit_card|  24.37%|        NY|Late (31-120 days)|      Individual|    19500| 10+ years|   56000.0|29.83|          0|       66%|       33|                 0|     null|        36 |            10|             66.0|43.76206961077844|      29.83|\n",
      "| 36 months|          RENT|    E|          vacation|  25.34%|        NY|Late (31-120 days)|      Individual|     1500|  < 1 year|   20000.0| 9.24|          0|    83.20%|        3|                 0|     null|        36 |             1|             83.0|43.76206961077844|       9.24|\n",
      "| 36 months|      MORTGAGE|    E|debt_consolidation|  25.34%|        GA|Late (31-120 days)|      Individual|     3525| 10+ years|  150000.0|14.25|          0|    31.10%|       15|                 0|     null|        36 |            10|             31.0|43.76206961077844|      14.25|\n",
      "| 60 months|      MORTGAGE|    C|debt_consolidation|  16.91%|        CA|Late (31-120 days)|      Individual|    11000| 10+ years|   97000.0|28.79|          0|    31.70%|       32|                 0|     null|        60 |            10|             31.0|43.76206961077844|      28.79|\n",
      "| 36 months|          RENT|    C|debt_consolidation|  13.56%|        MT|Late (31-120 days)|      Individual|    11500|   8 years|   33000.0| 2.55|          0|       20%|       12|                 0|     null|        36 |             8|             20.0|43.76206961077844|       2.55|\n",
      "| 36 months|      MORTGAGE|    A|debt_consolidation|   8.81%|        CA|Late (31-120 days)|      Individual|    22000|   5 years|  165000.0|15.59|          0|    46.40%|       46|                 0|     null|        36 |             5|             46.0|43.76206961077844|      15.59|\n",
      "| 60 months|           OWN|    D|debt_consolidation|  17.97%|        NV|Late (31-120 days)|      Individual|    19200|   9 years|   85000.0|39.11|          4|    28.30%|       53|                 2|     null|        60 |             9|             28.0|43.76206961077844|      39.11|\n",
      "| 60 months|          RENT|    B|debt_consolidation|  11.80%|        IN|Late (31-120 days)|      Individual|    40000|   5 years|  130000.0|17.88|          0|    78.30%|       16|                 0|     null|        60 |             5|             78.0|43.76206961077844|      17.88|\n",
      "| 36 months|      MORTGAGE|    A|       credit_card|   6.46%|        WA|       Charged Off|      Individual|     8000| 10+ years|   55000.0|17.83|          0|    29.10%|       49|                 0|     null|        36 |            10|             29.0|43.76206961077844|      17.83|\n",
      "+----------+--------------+-----+------------------+--------+----------+------------------+----------------+---------+----------+----------+-----+-----------+----------+---------+------------------+---------+-----------+--------------+-----------------+-----------------+-----------+\n",
      "only showing top 20 rows\n",
      "\n"
     ]
    }
   ],
   "source": [
    "df_sel.where(df_sel.loan_status.isin(['In Grace Period','Charged Off','Late (31-120 days)',' Late (16-30 days)'])).show()"
   ]
  },
  {
   "cell_type": "code",
   "execution_count": 174,
   "metadata": {},
   "outputs": [],
   "source": [
    "df_sel=df_sel.withColumn('bad_loan',when(df_sel.loan_status.isin(['In Grace Period','Charged Off','Late (31-120 days)','Late (16-30 days)']),'Yes').otherwise('No'))"
   ]
  },
  {
   "cell_type": "code",
   "execution_count": 175,
   "metadata": {},
   "outputs": [
    {
     "name": "stdout",
     "output_type": "stream",
     "text": [
      "+--------+------+\n",
      "|bad_loan| count|\n",
      "+--------+------+\n",
      "|      No|126584|\n",
      "|     Yes|  1828|\n",
      "+--------+------+\n",
      "\n"
     ]
    }
   ],
   "source": [
    "df_sel.groupBy('bad_loan').count().show()"
   ]
  },
  {
   "cell_type": "code",
   "execution_count": 176,
   "metadata": {},
   "outputs": [
    {
     "name": "stdout",
     "output_type": "stream",
     "text": [
      "+----------+--------------+-----+------------------+--------+----------+------------------+----------------+---------+----------+----------+-----+-----------+----------+---------+------------------+---------+-----------+--------------+-----------------+-----------------+-----------+--------+\n",
      "|      term|home_ownership|grade|           purpose|int_rate|addr_state|       loan_status|application_type|loan_amnt|emp_length|annual_inc|  dti|delinq_2yrs|revol_util|total_acc|num_tl_90g_dpd_24m|dti_joint|termcleaned|emplen_cleaned|revolutil_cleaned|          rev_avg|dti_cleaned|bad_loan|\n",
      "+----------+--------------+-----+------------------+--------+----------+------------------+----------------+---------+----------+----------+-----+-----------+----------+---------+------------------+---------+-----------+--------------+-----------------+-----------------+-----------+--------+\n",
      "| 36 months|          RENT|    B|debt_consolidation|  10.33%|        PA|Late (31-120 days)|      Individual|    16000|   3 years|   71000.0|16.58|          0|    11.80%|       28|                 0|     null|        36 |             3|             11.0|43.76206961077844|      16.58|     Yes|\n",
      "| 60 months|      MORTGAGE|    D|debt_consolidation|  22.35%|        OH|Late (31-120 days)|       Joint App|    17500|   9 years|   50000.0|36.92|          0|    35.40%|       37|                 0|    36.79|        60 |             9|             35.0|43.76206961077844|      36.92|     Yes|\n",
      "| 60 months|          RENT|    C|debt_consolidation|  15.02%|        NY|Late (31-120 days)|      Individual|    30000|   2 years|   90000.0|14.28|          0|    14.90%|       10|                 0|     null|        60 |             2|             14.0|43.76206961077844|      14.28|     Yes|\n",
      "| 36 months|      MORTGAGE|    A|debt_consolidation|   8.19%|        PA|Late (31-120 days)|      Individual|    20975|   2 years|  165000.0|24.27|          0|    16.60%|       21|                 0|     null|        36 |             2|             16.0|43.76206961077844|      24.27|     Yes|\n",
      "| 60 months|          RENT|    A|debt_consolidation|   8.19%|        CA|Late (31-120 days)|      Individual|    14000|  < 1 year|   65000.0|13.48|          0|    39.10%|       18|                 0|     null|        60 |             1|             39.0|43.76206961077844|      13.48|     Yes|\n",
      "| 36 months|          RENT|    A|debt_consolidation|   8.19%|        WA|Late (31-120 days)|      Individual|    14000|    1 year|   36000.0|25.83|          0|    73.60%|       11|                 0|     null|        36 |             1|             73.0|43.76206961077844|      25.83|     Yes|\n",
      "| 36 months|          RENT|    B|          vacation|  11.80%|        NC|Late (31-120 days)|      Individual|    20000|   3 years|   50000.0| 9.18|          0|    13.90%|       26|                 0|     null|        36 |             3|             13.0|43.76206961077844|       9.18|     Yes|\n",
      "| 36 months|          RENT|    B|debt_consolidation|  11.80%|        NJ|Late (31-120 days)|      Individual|    32000|  < 1 year|   50000.0|  6.1|          0|    50.30%|       28|                 0|     null|        36 |             1|             50.0|43.76206961077844|        6.1|     Yes|\n",
      "| 36 months|           OWN|    E|             other|  26.31%|        IN|Late (31-120 days)|      Individual|     9100|   3 years|   62000.0|13.38|          0|    12.10%|       23|                 0|     null|        36 |             3|             12.0|43.76206961077844|      13.38|     Yes|\n",
      "| 36 months|          RENT|    C|       credit_card|  13.56%|        OR|Late (31-120 days)|      Individual|     5000|    1 year|   50000.0|16.77|          0|    30.50%|        9|                 0|     null|        36 |             1|             30.0|43.76206961077844|      16.77|     Yes|\n",
      "| 60 months|          RENT|    C|    major_purchase|  14.47%|        CA|Late (31-120 days)|      Individual|    36000|   9 years|   93600.0| 4.14|          0|     0.30%|       29|                 0|     null|        60 |             9|              0.0|43.76206961077844|       4.14|     Yes|\n",
      "| 36 months|          RENT|    E|       credit_card|  24.37%|        NY|Late (31-120 days)|      Individual|    19500| 10+ years|   56000.0|29.83|          0|       66%|       33|                 0|     null|        36 |            10|             66.0|43.76206961077844|      29.83|     Yes|\n",
      "| 36 months|          RENT|    E|          vacation|  25.34%|        NY|Late (31-120 days)|      Individual|     1500|  < 1 year|   20000.0| 9.24|          0|    83.20%|        3|                 0|     null|        36 |             1|             83.0|43.76206961077844|       9.24|     Yes|\n",
      "| 36 months|      MORTGAGE|    E|debt_consolidation|  25.34%|        GA|Late (31-120 days)|      Individual|     3525| 10+ years|  150000.0|14.25|          0|    31.10%|       15|                 0|     null|        36 |            10|             31.0|43.76206961077844|      14.25|     Yes|\n",
      "| 60 months|      MORTGAGE|    C|debt_consolidation|  16.91%|        CA|Late (31-120 days)|      Individual|    11000| 10+ years|   97000.0|28.79|          0|    31.70%|       32|                 0|     null|        60 |            10|             31.0|43.76206961077844|      28.79|     Yes|\n",
      "| 36 months|          RENT|    C|debt_consolidation|  13.56%|        MT|Late (31-120 days)|      Individual|    11500|   8 years|   33000.0| 2.55|          0|       20%|       12|                 0|     null|        36 |             8|             20.0|43.76206961077844|       2.55|     Yes|\n",
      "| 36 months|      MORTGAGE|    A|debt_consolidation|   8.81%|        CA|Late (31-120 days)|      Individual|    22000|   5 years|  165000.0|15.59|          0|    46.40%|       46|                 0|     null|        36 |             5|             46.0|43.76206961077844|      15.59|     Yes|\n",
      "| 60 months|           OWN|    D|debt_consolidation|  17.97%|        NV|Late (31-120 days)|      Individual|    19200|   9 years|   85000.0|39.11|          4|    28.30%|       53|                 2|     null|        60 |             9|             28.0|43.76206961077844|      39.11|     Yes|\n",
      "| 60 months|          RENT|    B|debt_consolidation|  11.80%|        IN|Late (31-120 days)|      Individual|    40000|   5 years|  130000.0|17.88|          0|    78.30%|       16|                 0|     null|        60 |             5|             78.0|43.76206961077844|      17.88|     Yes|\n",
      "| 36 months|      MORTGAGE|    A|       credit_card|   6.46%|        WA|       Charged Off|      Individual|     8000| 10+ years|   55000.0|17.83|          0|    29.10%|       49|                 0|     null|        36 |            10|             29.0|43.76206961077844|      17.83|     Yes|\n",
      "+----------+--------------+-----+------------------+--------+----------+------------------+----------------+---------+----------+----------+-----+-----------+----------+---------+------------------+---------+-----------+--------------+-----------------+-----------------+-----------+--------+\n",
      "only showing top 20 rows\n",
      "\n"
     ]
    }
   ],
   "source": [
    "df_sel.filter(df_sel['bad_loan']=='Yes').show()"
   ]
  },
  {
   "cell_type": "code",
   "execution_count": 177,
   "metadata": {},
   "outputs": [],
   "source": [
    "df_sel=df_sel.drop('revol_util','dti','dti_joint')"
   ]
  },
  {
   "cell_type": "code",
   "execution_count": 178,
   "metadata": {},
   "outputs": [
    {
     "name": "stdout",
     "output_type": "stream",
     "text": [
      "root\n",
      " |-- term: string (nullable = true)\n",
      " |-- home_ownership: string (nullable = true)\n",
      " |-- grade: string (nullable = true)\n",
      " |-- purpose: string (nullable = true)\n",
      " |-- int_rate: string (nullable = true)\n",
      " |-- addr_state: string (nullable = true)\n",
      " |-- loan_status: string (nullable = true)\n",
      " |-- application_type: string (nullable = true)\n",
      " |-- loan_amnt: integer (nullable = true)\n",
      " |-- emp_length: string (nullable = true)\n",
      " |-- annual_inc: double (nullable = true)\n",
      " |-- delinq_2yrs: integer (nullable = true)\n",
      " |-- total_acc: integer (nullable = true)\n",
      " |-- num_tl_90g_dpd_24m: integer (nullable = true)\n",
      " |-- termcleaned: string (nullable = true)\n",
      " |-- emplen_cleaned: string (nullable = true)\n",
      " |-- revolutil_cleaned: double (nullable = true)\n",
      " |-- rev_avg: double (nullable = false)\n",
      " |-- dti_cleaned: double (nullable = true)\n",
      " |-- bad_loan: string (nullable = false)\n",
      "\n"
     ]
    }
   ],
   "source": [
    "df_sel.printSchema()"
   ]
  },
  {
   "cell_type": "code",
   "execution_count": 179,
   "metadata": {},
   "outputs": [
    {
     "name": "stdout",
     "output_type": "stream",
     "text": [
      "+--------------+-----+-----+-----+-----+----+---+---+\n",
      "|bad_loan_grade|    A|    B|    C|    D|   E|  F|  G|\n",
      "+--------------+-----+-----+-----+-----+----+---+---+\n",
      "|            No|37827|35472|30498|16630|5712|357| 88|\n",
      "|           Yes|  184|  389|  520|  442| 250| 30| 13|\n",
      "+--------------+-----+-----+-----+-----+----+---+---+\n",
      "\n"
     ]
    }
   ],
   "source": [
    "df_sel.stat.crosstab('bad_loan','grade').show()"
   ]
  },
  {
   "cell_type": "code",
   "execution_count": 180,
   "metadata": {},
   "outputs": [
    {
     "name": "stdout",
     "output_type": "stream",
     "text": [
      "+-------+------------------+\n",
      "|summary|       dti_cleaned|\n",
      "+-------+------------------+\n",
      "|  count|            128412|\n",
      "|   mean|19.930878500451726|\n",
      "| stddev|20.128079702803806|\n",
      "|    min|               0.0|\n",
      "|    max|             999.0|\n",
      "+-------+------------------+\n",
      "\n"
     ]
    }
   ],
   "source": [
    "df_sel.describe('dti_cleaned').show()"
   ]
  },
  {
   "cell_type": "code",
   "execution_count": 181,
   "metadata": {},
   "outputs": [
    {
     "name": "stdout",
     "output_type": "stream",
     "text": [
      "+----------+--------------+-----+------------------+--------+----------+-----------+----------------+---------+----------+----------+-----------+---------+------------------+-----------+--------------+-----------------+-----------------+-----------+--------+\n",
      "|      term|home_ownership|grade|           purpose|int_rate|addr_state|loan_status|application_type|loan_amnt|emp_length|annual_inc|delinq_2yrs|total_acc|num_tl_90g_dpd_24m|termcleaned|emplen_cleaned|revolutil_cleaned|          rev_avg|dti_cleaned|bad_loan|\n",
      "+----------+--------------+-----+------------------+--------+----------+-----------+----------------+---------+----------+----------+-----------+---------+------------------+-----------+--------------+-----------------+-----------------+-----------+--------+\n",
      "| 36 months|      MORTGAGE|    B|             other|  11.31%|        CA|    Current|       Joint App|    10000|       n/a|   10020.0|          0|        8|                 0|        36 |              |             94.0|43.76206961077844|     123.47|      No|\n",
      "| 36 months|      MORTGAGE|    B|debt_consolidation|  11.80%|        UT|    Current|       Joint App|     3000|  < 1 year|    3600.0|          1|       22|                 0|        36 |             1|             40.0|43.76206961077844|     149.33|      No|\n",
      "| 60 months|      MORTGAGE|    D|debt_consolidation|  19.92%|        CO|    Current|       Joint App|    12000|  < 1 year|    7500.0|          1|       24|                 0|        60 |             1|             63.0|43.76206961077844|     173.92|      No|\n",
      "| 60 months|      MORTGAGE|    B|debt_consolidation|  11.80%|        OH|    Current|       Joint App|    10000|       n/a|    8280.0|          0|       30|                 0|        60 |              |             23.0|43.76206961077844|     101.45|      No|\n",
      "| 36 months|      MORTGAGE|    A|       credit_card|   6.46%|        NJ|    Current|       Joint App|    20500|  < 1 year|    2000.0|          0|       26|                 0|        36 |             1|             29.0|43.76206961077844|     292.25|      No|\n",
      "| 60 months|          RENT|    B|debt_consolidation|  11.80%|        NJ|    Current|       Joint App|    25000|       n/a|   20766.0|          0|       26|                 0|        60 |              |             30.0|43.76206961077844|     127.32|      No|\n",
      "| 36 months|      MORTGAGE|    A|             other|   6.46%|        CA|    Current|       Joint App|     5000|   8 years|   45000.0|          0|       11|                 0|        36 |             8|             33.0|43.76206961077844|     106.35|      No|\n",
      "| 36 months|      MORTGAGE|    D|debt_consolidation|  18.94%|        CA|    Current|       Joint App|    10000|   2 years|    7500.0|          0|       32|                 0|        36 |             2|             69.0|43.76206961077844|     342.24|      No|\n",
      "| 36 months|          RENT|    C|debt_consolidation|  16.91%|        GA|    Current|       Joint App|    14400| 10+ years|   12000.0|          0|       16|                 0|        36 |            10|             46.0|43.76206961077844|      111.9|      No|\n",
      "| 60 months|      MORTGAGE|    B|debt_consolidation|  11.31%|        MN|    Current|       Joint App|    40000|  < 1 year|   10000.0|          0|       18|                 0|        60 |             1|             33.0|43.76206961077844|      146.8|      No|\n",
      "| 36 months|      MORTGAGE|    C|    major_purchase|  16.14%|        KS|    Current|       Joint App|     3000|       n/a|   13488.0|          0|       25|                 0|        36 |              |             28.0|43.76206961077844|     103.11|      No|\n",
      "| 36 months|          RENT|    E|          vacation|  24.37%|        VA|    Current|       Joint App|     2000|   6 years|    3500.0|          0|       20|                 0|        36 |             6|             95.0|43.76206961077844|     358.76|      No|\n",
      "| 36 months|      MORTGAGE|    B|debt_consolidation|  10.72%|        PA|    Current|       Joint App|    32000|       n/a|   14000.0|          0|       18|                 0|        36 |              |             64.0|43.76206961077844|     100.09|      No|\n",
      "| 60 months|      MORTGAGE|    B|debt_consolidation|  11.80%|        LA|    Current|       Joint App|    35000|   3 years|   30000.0|          1|       21|                 0|        60 |             3|             49.0|43.76206961077844|     139.88|      No|\n",
      "| 60 months|      MORTGAGE|    A|       credit_card|   8.19%|        VA|    Current|       Joint App|    40000|   7 years|    5000.0|          0|       43|                 0|        60 |             7|             45.0|43.76206961077844|     503.61|      No|\n",
      "| 60 months|      MORTGAGE|    E|debt_consolidation|  27.27%|        TX|    Current|       Joint App|    20000|       n/a|   38000.0|          2|       24|                 0|        60 |              |              8.0|43.76206961077844|     111.15|      No|\n",
      "| 36 months|      MORTGAGE|    B|       credit_card|  11.80%|        TN|    Current|       Joint App|    10300|   6 years|   22000.0|          0|       19|                 0|        36 |             6|             79.0|43.76206961077844|     110.64|      No|\n",
      "| 36 months|           OWN|    D|       credit_card|  19.92%|        CA|    Current|       Joint App|    40000|  < 1 year|   15000.0|          0|       36|                 0|        36 |             1|             56.0|43.76206961077844|      189.3|      No|\n",
      "| 60 months|          RENT|    C|       credit_card|  13.56%|        OR|    Current|       Joint App|    11000|       n/a|    9600.0|          0|        6|                 0|        60 |              |             97.0|43.76206961077844|      111.5|      No|\n",
      "| 60 months|      MORTGAGE|    B|debt_consolidation|  12.98%|        CA|    Current|       Joint App|    35000|    1 year|   38000.0|          0|       21|                 0|        60 |             1|             82.0|43.76206961077844|     125.05|      No|\n",
      "+----------+--------------+-----+------------------+--------+----------+-----------+----------------+---------+----------+----------+-----------+---------+------------------+-----------+--------------+-----------------+-----------------+-----------+--------+\n",
      "only showing top 20 rows\n",
      "\n"
     ]
    }
   ],
   "source": [
    "df_sel.filter(df_sel.dti_cleaned>100).show()"
   ]
  },
  {
   "cell_type": "code",
   "execution_count": 183,
   "metadata": {},
   "outputs": [],
   "source": [
    "# creating lc_loan_data table\n",
    "permanent_table_name='lc_loan_data'\n",
    "df_sel.write.format(\"parquet\").saveAsTable(permanent_table_name)"
   ]
  },
  {
   "cell_type": "code",
   "execution_count": 187,
   "metadata": {},
   "outputs": [
    {
     "name": "stdout",
     "output_type": "stream",
     "text": [
      "+----------+--------------+-----+------------------+--------+----------+-----------+----------------+---------+----------+----------+-----------+---------+------------------+-----------+--------------+-----------------+-----------------+-----------+--------+\n",
      "|      term|home_ownership|grade|           purpose|int_rate|addr_state|loan_status|application_type|loan_amnt|emp_length|annual_inc|delinq_2yrs|total_acc|num_tl_90g_dpd_24m|termcleaned|emplen_cleaned|revolutil_cleaned|          rev_avg|dti_cleaned|bad_loan|\n",
      "+----------+--------------+-----+------------------+--------+----------+-----------+----------------+---------+----------+----------+-----------+---------+------------------+-----------+--------------+-----------------+-----------------+-----------+--------+\n",
      "| 36 months|      MORTGAGE|    B|debt_consolidation|  10.33%|        OR|    Current|      Individual|    10000|  < 1 year|  280000.0|          2|       23|                 0|        36 |             1|             38.0|43.76206961077844|       6.15|      No|\n",
      "| 36 months|          RENT|    C|debt_consolidation|  13.56%|        NY|    Current|      Individual|     2500| 10+ years|   55000.0|          0|       34|                 0|        36 |            10|             10.0|43.76206961077844|      18.24|      No|\n",
      "| 60 months|      MORTGAGE|    C|debt_consolidation|  13.56%|        PA|    Current|      Individual|    12000|  < 1 year|   40000.0|          0|        9|                 0|        60 |             1|             55.0|43.76206961077844|      19.23|      No|\n",
      "| 60 months|      MORTGAGE|    C|debt_consolidation|  14.47%|        TX|    Current|       Joint App|    15000|       n/a|   30000.0|          0|       30|                 0|        60 |              |             37.0|43.76206961077844|       41.6|      No|\n",
      "| 60 months|      MORTGAGE|    D|debt_consolidation|  17.97%|        NC|    Current|      Individual|    16000|   5 years|   51000.0|          0|       27|                 0|        60 |             5|             24.0|43.76206961077844|      21.91|      No|\n",
      "+----------+--------------+-----+------------------+--------+----------+-----------+----------------+---------+----------+----------+-----------+---------+------------------+-----------+--------------+-----------------+-----------------+-----------+--------+\n",
      "only showing top 5 rows\n",
      "\n"
     ]
    }
   ],
   "source": [
    "spark.sql('select * from lc_loan_data').show(5)"
   ]
  },
  {
   "cell_type": "code",
   "execution_count": null,
   "metadata": {},
   "outputs": [],
   "source": []
  }
 ],
 "metadata": {
  "kernelspec": {
   "display_name": "base",
   "language": "python",
   "name": "python3"
  },
  "language_info": {
   "codemirror_mode": {
    "name": "ipython",
    "version": 3
   },
   "file_extension": ".py",
   "mimetype": "text/x-python",
   "name": "python",
   "nbconvert_exporter": "python",
   "pygments_lexer": "ipython3",
   "version": "3.9.7"
  },
  "orig_nbformat": 4
 },
 "nbformat": 4,
 "nbformat_minor": 2
}
